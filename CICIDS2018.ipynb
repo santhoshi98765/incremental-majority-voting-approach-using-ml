{
 "cells": [
  {
   "cell_type": "code",
   "execution_count": 1,
   "id": "ae998dde",
   "metadata": {},
   "outputs": [],
   "source": [
    "import warnings\n",
    "warnings.filterwarnings('ignore')"
   ]
  },
  {
   "cell_type": "code",
   "execution_count": 2,
   "id": "a740990e",
   "metadata": {},
   "outputs": [],
   "source": [
    "import numpy as np\n",
    "import pandas as pd\n",
    "\n",
    "import matplotlib.pyplot as plt\n",
    "import seaborn as sns"
   ]
  },
  {
   "cell_type": "code",
   "execution_count": 4,
   "id": "e0e5a959",
   "metadata": {},
   "outputs": [],
   "source": [
    "df_data_1 = pd.read_parquet('cicids2018/Botnet-Friday-02-03-2018_TrafficForML_CICFlowMeter.parquet')\n",
    "df_data_2 = pd.read_parquet('cicids2018/Bruteforce-Wednesday-14-02-2018_TrafficForML_CICFlowMeter.parquet')\n",
    "df_data_3 = pd.read_parquet('cicids2018/DDoS2-Wednesday-21-02-2018_TrafficForML_CICFlowMeter.parquet')\n",
    "df_data_4 = pd.read_parquet('cicids2018/DoS2-Friday-16-02-2018_TrafficForML_CICFlowMeter.parquet')\n",
    "df_data_5 = pd.read_parquet('cicids2018/Infil2-Thursday-01-03-2018_TrafficForML_CICFlowMeter.parquet')\n",
    "df_data_7 = pd.read_parquet('cicids2018/Web2-Friday-23-02-2018_TrafficForML_CICFlowMeter.parquet')"
   ]
  },
  {
   "cell_type": "code",
   "execution_count": 5,
   "id": "eefe7f14",
   "metadata": {},
   "outputs": [],
   "source": [
    "data = pd.concat([df_data_1, df_data_2, df_data_3, df_data_4, \n",
    "                    df_data_5, df_data_7], axis=0, ignore_index=True)"
   ]
  },
  {
   "cell_type": "code",
   "execution_count": 6,
   "id": "07d18089",
   "metadata": {},
   "outputs": [
    {
     "name": "stdout",
     "output_type": "stream",
     "text": [
      "0 null entries have been found in the dataset\n",
      "\n",
      "72648 duplicate entries have been found in the dataset\n",
      "\n",
      "All duplicates have been removed\n",
      "\n",
      "Categorical columns: ['Label'] \n",
      "\n"
     ]
    },
    {
     "data": {
      "text/html": [
       "<div>\n",
       "<style scoped>\n",
       "    .dataframe tbody tr th:only-of-type {\n",
       "        vertical-align: middle;\n",
       "    }\n",
       "\n",
       "    .dataframe tbody tr th {\n",
       "        vertical-align: top;\n",
       "    }\n",
       "\n",
       "    .dataframe thead th {\n",
       "        text-align: right;\n",
       "    }\n",
       "</style>\n",
       "<table border=\"1\" class=\"dataframe\">\n",
       "  <thead>\n",
       "    <tr style=\"text-align: right;\">\n",
       "      <th></th>\n",
       "      <th>Protocol</th>\n",
       "      <th>Flow Duration</th>\n",
       "      <th>Total Fwd Packets</th>\n",
       "      <th>Total Backward Packets</th>\n",
       "      <th>Fwd Packets Length Total</th>\n",
       "      <th>Bwd Packets Length Total</th>\n",
       "      <th>Fwd Packet Length Max</th>\n",
       "      <th>Fwd Packet Length Min</th>\n",
       "      <th>Fwd Packet Length Mean</th>\n",
       "      <th>Fwd Packet Length Std</th>\n",
       "      <th>...</th>\n",
       "      <th>Fwd Seg Size Min</th>\n",
       "      <th>Active Mean</th>\n",
       "      <th>Active Std</th>\n",
       "      <th>Active Max</th>\n",
       "      <th>Active Min</th>\n",
       "      <th>Idle Mean</th>\n",
       "      <th>Idle Std</th>\n",
       "      <th>Idle Max</th>\n",
       "      <th>Idle Min</th>\n",
       "      <th>Label</th>\n",
       "    </tr>\n",
       "  </thead>\n",
       "  <tbody>\n",
       "    <tr>\n",
       "      <th>0</th>\n",
       "      <td>6</td>\n",
       "      <td>141385</td>\n",
       "      <td>9</td>\n",
       "      <td>7</td>\n",
       "      <td>553</td>\n",
       "      <td>3773.0</td>\n",
       "      <td>202</td>\n",
       "      <td>0</td>\n",
       "      <td>61.444443</td>\n",
       "      <td>87.534439</td>\n",
       "      <td>...</td>\n",
       "      <td>20</td>\n",
       "      <td>0.0</td>\n",
       "      <td>0.0</td>\n",
       "      <td>0.0</td>\n",
       "      <td>0.0</td>\n",
       "      <td>0.0</td>\n",
       "      <td>0.0</td>\n",
       "      <td>0.0</td>\n",
       "      <td>0.0</td>\n",
       "      <td>Benign</td>\n",
       "    </tr>\n",
       "    <tr>\n",
       "      <th>1</th>\n",
       "      <td>6</td>\n",
       "      <td>281</td>\n",
       "      <td>2</td>\n",
       "      <td>1</td>\n",
       "      <td>38</td>\n",
       "      <td>0.0</td>\n",
       "      <td>38</td>\n",
       "      <td>0</td>\n",
       "      <td>19.000000</td>\n",
       "      <td>26.870058</td>\n",
       "      <td>...</td>\n",
       "      <td>20</td>\n",
       "      <td>0.0</td>\n",
       "      <td>0.0</td>\n",
       "      <td>0.0</td>\n",
       "      <td>0.0</td>\n",
       "      <td>0.0</td>\n",
       "      <td>0.0</td>\n",
       "      <td>0.0</td>\n",
       "      <td>0.0</td>\n",
       "      <td>Benign</td>\n",
       "    </tr>\n",
       "    <tr>\n",
       "      <th>2</th>\n",
       "      <td>6</td>\n",
       "      <td>279824</td>\n",
       "      <td>11</td>\n",
       "      <td>15</td>\n",
       "      <td>1086</td>\n",
       "      <td>10527.0</td>\n",
       "      <td>385</td>\n",
       "      <td>0</td>\n",
       "      <td>98.727272</td>\n",
       "      <td>129.392502</td>\n",
       "      <td>...</td>\n",
       "      <td>20</td>\n",
       "      <td>0.0</td>\n",
       "      <td>0.0</td>\n",
       "      <td>0.0</td>\n",
       "      <td>0.0</td>\n",
       "      <td>0.0</td>\n",
       "      <td>0.0</td>\n",
       "      <td>0.0</td>\n",
       "      <td>0.0</td>\n",
       "      <td>Benign</td>\n",
       "    </tr>\n",
       "    <tr>\n",
       "      <th>3</th>\n",
       "      <td>6</td>\n",
       "      <td>132</td>\n",
       "      <td>2</td>\n",
       "      <td>0</td>\n",
       "      <td>0</td>\n",
       "      <td>0.0</td>\n",
       "      <td>0</td>\n",
       "      <td>0</td>\n",
       "      <td>0.000000</td>\n",
       "      <td>0.000000</td>\n",
       "      <td>...</td>\n",
       "      <td>20</td>\n",
       "      <td>0.0</td>\n",
       "      <td>0.0</td>\n",
       "      <td>0.0</td>\n",
       "      <td>0.0</td>\n",
       "      <td>0.0</td>\n",
       "      <td>0.0</td>\n",
       "      <td>0.0</td>\n",
       "      <td>0.0</td>\n",
       "      <td>Benign</td>\n",
       "    </tr>\n",
       "    <tr>\n",
       "      <th>4</th>\n",
       "      <td>6</td>\n",
       "      <td>274016</td>\n",
       "      <td>9</td>\n",
       "      <td>13</td>\n",
       "      <td>1285</td>\n",
       "      <td>6141.0</td>\n",
       "      <td>517</td>\n",
       "      <td>0</td>\n",
       "      <td>142.777771</td>\n",
       "      <td>183.887726</td>\n",
       "      <td>...</td>\n",
       "      <td>20</td>\n",
       "      <td>0.0</td>\n",
       "      <td>0.0</td>\n",
       "      <td>0.0</td>\n",
       "      <td>0.0</td>\n",
       "      <td>0.0</td>\n",
       "      <td>0.0</td>\n",
       "      <td>0.0</td>\n",
       "      <td>0.0</td>\n",
       "      <td>Benign</td>\n",
       "    </tr>\n",
       "  </tbody>\n",
       "</table>\n",
       "<p>5 rows × 78 columns</p>\n",
       "</div>"
      ],
      "text/plain": [
       "   Protocol  Flow Duration  Total Fwd Packets  Total Backward Packets  \\\n",
       "0         6         141385                  9                       7   \n",
       "1         6            281                  2                       1   \n",
       "2         6         279824                 11                      15   \n",
       "3         6            132                  2                       0   \n",
       "4         6         274016                  9                      13   \n",
       "\n",
       "   Fwd Packets Length Total  Bwd Packets Length Total  Fwd Packet Length Max  \\\n",
       "0                       553                    3773.0                    202   \n",
       "1                        38                       0.0                     38   \n",
       "2                      1086                   10527.0                    385   \n",
       "3                         0                       0.0                      0   \n",
       "4                      1285                    6141.0                    517   \n",
       "\n",
       "   Fwd Packet Length Min  Fwd Packet Length Mean  Fwd Packet Length Std  ...  \\\n",
       "0                      0               61.444443              87.534439  ...   \n",
       "1                      0               19.000000              26.870058  ...   \n",
       "2                      0               98.727272             129.392502  ...   \n",
       "3                      0                0.000000               0.000000  ...   \n",
       "4                      0              142.777771             183.887726  ...   \n",
       "\n",
       "   Fwd Seg Size Min  Active Mean  Active Std  Active Max  Active Min  \\\n",
       "0                20          0.0         0.0         0.0         0.0   \n",
       "1                20          0.0         0.0         0.0         0.0   \n",
       "2                20          0.0         0.0         0.0         0.0   \n",
       "3                20          0.0         0.0         0.0         0.0   \n",
       "4                20          0.0         0.0         0.0         0.0   \n",
       "\n",
       "   Idle Mean  Idle Std  Idle Max  Idle Min   Label  \n",
       "0        0.0       0.0       0.0       0.0  Benign  \n",
       "1        0.0       0.0       0.0       0.0  Benign  \n",
       "2        0.0       0.0       0.0       0.0  Benign  \n",
       "3        0.0       0.0       0.0       0.0  Benign  \n",
       "4        0.0       0.0       0.0       0.0  Benign  \n",
       "\n",
       "[5 rows x 78 columns]"
      ]
     },
     "execution_count": 6,
     "metadata": {},
     "output_type": "execute_result"
    }
   ],
   "source": [
    "null_counts = data.isnull().sum()\n",
    "# Print the number of null values\n",
    "print(f\"{null_counts.sum()} null entries have been found in the dataset\\n\")\n",
    "# Drop null values\n",
    "data.dropna(inplace=True)          # or df_data = df_data.dropna()\n",
    "\n",
    "# Find and handle duplicates\n",
    "duplicate_count = data.duplicated().sum()\n",
    "# Print the number of duplicate entries\n",
    "print(f\"{duplicate_count} duplicate entries have been found in the dataset\\n\")\n",
    "# Remove duplicates\n",
    "data.drop_duplicates(inplace=True)  # or df_data = df_data.drop_duplicates()\n",
    "# Display relative message\n",
    "print(f\"All duplicates have been removed\\n\")\n",
    "\n",
    "# Reset the indexes\n",
    "data.reset_index(drop=True, inplace=True)\n",
    "\n",
    "# Inspect the dataset for categorical columns\n",
    "print(\"Categorical columns:\",data.select_dtypes(include=['object']).columns.tolist(),'\\n')\n",
    "\n",
    "# Print the first 5 lines\n",
    "data.head()"
   ]
  },
  {
   "cell_type": "code",
   "execution_count": 7,
   "id": "9c1bf928",
   "metadata": {},
   "outputs": [
    {
     "data": {
      "text/plain": [
       "Index(['Protocol', 'Flow Duration', 'Total Fwd Packets',\n",
       "       'Total Backward Packets', 'Fwd Packets Length Total',\n",
       "       'Bwd Packets Length Total', 'Fwd Packet Length Max',\n",
       "       'Fwd Packet Length Min', 'Fwd Packet Length Mean',\n",
       "       'Fwd Packet Length Std', 'Bwd Packet Length Max',\n",
       "       'Bwd Packet Length Min', 'Bwd Packet Length Mean',\n",
       "       'Bwd Packet Length Std', 'Flow Bytes/s', 'Flow Packets/s',\n",
       "       'Flow IAT Mean', 'Flow IAT Std', 'Flow IAT Max', 'Flow IAT Min',\n",
       "       'Fwd IAT Total', 'Fwd IAT Mean', 'Fwd IAT Std', 'Fwd IAT Max',\n",
       "       'Fwd IAT Min', 'Bwd IAT Total', 'Bwd IAT Mean', 'Bwd IAT Std',\n",
       "       'Bwd IAT Max', 'Bwd IAT Min', 'Fwd PSH Flags', 'Bwd PSH Flags',\n",
       "       'Fwd URG Flags', 'Bwd URG Flags', 'Fwd Header Length',\n",
       "       'Bwd Header Length', 'Fwd Packets/s', 'Bwd Packets/s',\n",
       "       'Packet Length Min', 'Packet Length Max', 'Packet Length Mean',\n",
       "       'Packet Length Std', 'Packet Length Variance', 'FIN Flag Count',\n",
       "       'SYN Flag Count', 'RST Flag Count', 'PSH Flag Count', 'ACK Flag Count',\n",
       "       'URG Flag Count', 'CWE Flag Count', 'ECE Flag Count', 'Down/Up Ratio',\n",
       "       'Avg Packet Size', 'Avg Fwd Segment Size', 'Avg Bwd Segment Size',\n",
       "       'Fwd Avg Bytes/Bulk', 'Fwd Avg Packets/Bulk', 'Fwd Avg Bulk Rate',\n",
       "       'Bwd Avg Bytes/Bulk', 'Bwd Avg Packets/Bulk', 'Bwd Avg Bulk Rate',\n",
       "       'Subflow Fwd Packets', 'Subflow Fwd Bytes', 'Subflow Bwd Packets',\n",
       "       'Subflow Bwd Bytes', 'Init Fwd Win Bytes', 'Init Bwd Win Bytes',\n",
       "       'Fwd Act Data Packets', 'Fwd Seg Size Min', 'Active Mean', 'Active Std',\n",
       "       'Active Max', 'Active Min', 'Idle Mean', 'Idle Std', 'Idle Max',\n",
       "       'Idle Min', 'Label'],\n",
       "      dtype='object')"
      ]
     },
     "execution_count": 7,
     "metadata": {},
     "output_type": "execute_result"
    }
   ],
   "source": [
    "data.columns"
   ]
  },
  {
   "cell_type": "code",
   "execution_count": 8,
   "id": "eb5dcdee",
   "metadata": {},
   "outputs": [],
   "source": [
    "drop_columns = [ # this list includes all spellings across CIC NIDS datasets\n",
    "    \"Flow ID\",    \n",
    "    'Fwd Header Length.1',\n",
    "    \"Source IP\", \"Src IP\",\n",
    "    \"Source Port\", \"Src Port\",\n",
    "    \"Destination IP\", \"Dst IP\",\n",
    "    \"Destination Port\", \"Dst Port\",\n",
    "    \"Timestamp\",\n",
    "]\n",
    "data.drop(columns=drop_columns, inplace=True, errors='ignore')  "
   ]
  },
  {
   "cell_type": "code",
   "execution_count": 9,
   "id": "97494593",
   "metadata": {},
   "outputs": [
    {
     "name": "stdout",
     "output_type": "stream",
     "text": [
      "<class 'pandas.core.frame.DataFrame'>\n",
      "RangeIndex: 3550129 entries, 0 to 3550128\n",
      "Data columns (total 78 columns):\n",
      " #   Column                    Dtype  \n",
      "---  ------                    -----  \n",
      " 0   Protocol                  int8   \n",
      " 1   Flow Duration             int64  \n",
      " 2   Total Fwd Packets         int32  \n",
      " 3   Total Backward Packets    int32  \n",
      " 4   Fwd Packets Length Total  int32  \n",
      " 5   Bwd Packets Length Total  float64\n",
      " 6   Fwd Packet Length Max     int32  \n",
      " 7   Fwd Packet Length Min     int16  \n",
      " 8   Fwd Packet Length Mean    float32\n",
      " 9   Fwd Packet Length Std     float32\n",
      " 10  Bwd Packet Length Max     int32  \n",
      " 11  Bwd Packet Length Min     int16  \n",
      " 12  Bwd Packet Length Mean    float32\n",
      " 13  Bwd Packet Length Std     float32\n",
      " 14  Flow Bytes/s              float64\n",
      " 15  Flow Packets/s            float64\n",
      " 16  Flow IAT Mean             float32\n",
      " 17  Flow IAT Std              float32\n",
      " 18  Flow IAT Max              float64\n",
      " 19  Flow IAT Min              float64\n",
      " 20  Fwd IAT Total             float64\n",
      " 21  Fwd IAT Mean              float32\n",
      " 22  Fwd IAT Std               float32\n",
      " 23  Fwd IAT Max               float64\n",
      " 24  Fwd IAT Min               float64\n",
      " 25  Bwd IAT Total             float64\n",
      " 26  Bwd IAT Mean              float32\n",
      " 27  Bwd IAT Std               float32\n",
      " 28  Bwd IAT Max               float64\n",
      " 29  Bwd IAT Min               float64\n",
      " 30  Fwd PSH Flags             int8   \n",
      " 31  Bwd PSH Flags             int8   \n",
      " 32  Fwd URG Flags             int8   \n",
      " 33  Bwd URG Flags             int8   \n",
      " 34  Fwd Header Length         int32  \n",
      " 35  Bwd Header Length         int32  \n",
      " 36  Fwd Packets/s             float32\n",
      " 37  Bwd Packets/s             float32\n",
      " 38  Packet Length Min         int16  \n",
      " 39  Packet Length Max         int32  \n",
      " 40  Packet Length Mean        float32\n",
      " 41  Packet Length Std         float32\n",
      " 42  Packet Length Variance    float32\n",
      " 43  FIN Flag Count            int8   \n",
      " 44  SYN Flag Count            int8   \n",
      " 45  RST Flag Count            int8   \n",
      " 46  PSH Flag Count            int8   \n",
      " 47  ACK Flag Count            int8   \n",
      " 48  URG Flag Count            int8   \n",
      " 49  CWE Flag Count            int8   \n",
      " 50  ECE Flag Count            int8   \n",
      " 51  Down/Up Ratio             int16  \n",
      " 52  Avg Packet Size           float32\n",
      " 53  Avg Fwd Segment Size      float32\n",
      " 54  Avg Bwd Segment Size      float32\n",
      " 55  Fwd Avg Bytes/Bulk        int8   \n",
      " 56  Fwd Avg Packets/Bulk      int8   \n",
      " 57  Fwd Avg Bulk Rate         int8   \n",
      " 58  Bwd Avg Bytes/Bulk        int8   \n",
      " 59  Bwd Avg Packets/Bulk      int8   \n",
      " 60  Bwd Avg Bulk Rate         int8   \n",
      " 61  Subflow Fwd Packets       int32  \n",
      " 62  Subflow Fwd Bytes         int32  \n",
      " 63  Subflow Bwd Packets       int32  \n",
      " 64  Subflow Bwd Bytes         int32  \n",
      " 65  Init Fwd Win Bytes        int32  \n",
      " 66  Init Bwd Win Bytes        int32  \n",
      " 67  Fwd Act Data Packets      int32  \n",
      " 68  Fwd Seg Size Min          int8   \n",
      " 69  Active Mean               float32\n",
      " 70  Active Std                float32\n",
      " 71  Active Max                float64\n",
      " 72  Active Min                float64\n",
      " 73  Idle Mean                 float32\n",
      " 74  Idle Std                  float32\n",
      " 75  Idle Max                  float64\n",
      " 76  Idle Min                  float64\n",
      " 77  Label                     object \n",
      "dtypes: float32(22), float64(15), int16(4), int32(15), int64(1), int8(20), object(1)\n",
      "memory usage: 1.0+ GB\n"
     ]
    }
   ],
   "source": [
    "data.info()"
   ]
  },
  {
   "cell_type": "code",
   "execution_count": 10,
   "id": "56936e8d",
   "metadata": {},
   "outputs": [
    {
     "data": {
      "text/plain": [
       "Benign                      2903073\n",
       "DDOS attack-HOIC             198861\n",
       "DoS attacks-Hulk             145199\n",
       "Bot                          144535\n",
       "SSH-Bruteforce                94048\n",
       "Infilteration                 62034\n",
       "DDOS attack-LOIC-UDP           1730\n",
       "Brute Force -Web                340\n",
       "Brute Force -XSS                150\n",
       "DoS attacks-SlowHTTPTest         55\n",
       "FTP-BruteForce                   53\n",
       "SQL Injection                    51\n",
       "Name: Label, dtype: int64"
      ]
     },
     "execution_count": 10,
     "metadata": {},
     "output_type": "execute_result"
    }
   ],
   "source": [
    "data['Label'].value_counts()"
   ]
  },
  {
   "cell_type": "code",
   "execution_count": 11,
   "id": "ce1b87ae",
   "metadata": {},
   "outputs": [],
   "source": [
    "def change_label(df):\n",
    "  df['Label'].replace(['DDOS attack-HOIC','DoS attacks-Hulk','DDOS attack-LOIC-UDP','DoS attacks-SlowHTTPTest'],'Dos',inplace=True)\n",
    "  df['Label'].replace(['FTP-Patator','SSH-Bruteforce','Infilteration','Bot'],'Bot',inplace=True)      \n",
    "  df['Label'].replace(['Brute Force -Web','Brute Force -XSS','FTP-BruteForce','SSH-Bruteforce'],'BruteForce',inplace=True)"
   ]
  },
  {
   "cell_type": "code",
   "execution_count": 12,
   "id": "dbe0a688",
   "metadata": {},
   "outputs": [],
   "source": [
    "change_label(data)"
   ]
  },
  {
   "cell_type": "code",
   "execution_count": 13,
   "id": "b5401797",
   "metadata": {},
   "outputs": [
    {
     "data": {
      "text/plain": [
       "Benign           2903073\n",
       "Dos               345845\n",
       "Bot               300617\n",
       "BruteForce           543\n",
       "SQL Injection         51\n",
       "Name: Label, dtype: int64"
      ]
     },
     "execution_count": 13,
     "metadata": {},
     "output_type": "execute_result"
    }
   ],
   "source": [
    "# distribution of attack classes\n",
    "data['Label'].value_counts()"
   ]
  },
  {
   "cell_type": "code",
   "execution_count": 14,
   "id": "7ce41832",
   "metadata": {},
   "outputs": [
    {
     "name": "stdout",
     "output_type": "stream",
     "text": [
      "<class 'pandas.core.frame.DataFrame'>\n",
      "Int64Index: 30594 entries, 1641306 to 2774058\n",
      "Data columns (total 78 columns):\n",
      " #   Column                    Non-Null Count  Dtype  \n",
      "---  ------                    --------------  -----  \n",
      " 0   Protocol                  30594 non-null  int8   \n",
      " 1   Flow Duration             30594 non-null  int64  \n",
      " 2   Total Fwd Packets         30594 non-null  int32  \n",
      " 3   Total Backward Packets    30594 non-null  int32  \n",
      " 4   Fwd Packets Length Total  30594 non-null  int32  \n",
      " 5   Bwd Packets Length Total  30594 non-null  float64\n",
      " 6   Fwd Packet Length Max     30594 non-null  int32  \n",
      " 7   Fwd Packet Length Min     30594 non-null  int16  \n",
      " 8   Fwd Packet Length Mean    30594 non-null  float32\n",
      " 9   Fwd Packet Length Std     30594 non-null  float32\n",
      " 10  Bwd Packet Length Max     30594 non-null  int32  \n",
      " 11  Bwd Packet Length Min     30594 non-null  int16  \n",
      " 12  Bwd Packet Length Mean    30594 non-null  float32\n",
      " 13  Bwd Packet Length Std     30594 non-null  float32\n",
      " 14  Flow Bytes/s              30594 non-null  float64\n",
      " 15  Flow Packets/s            30594 non-null  float64\n",
      " 16  Flow IAT Mean             30594 non-null  float32\n",
      " 17  Flow IAT Std              30594 non-null  float32\n",
      " 18  Flow IAT Max              30594 non-null  float64\n",
      " 19  Flow IAT Min              30594 non-null  float64\n",
      " 20  Fwd IAT Total             30594 non-null  float64\n",
      " 21  Fwd IAT Mean              30594 non-null  float32\n",
      " 22  Fwd IAT Std               30594 non-null  float32\n",
      " 23  Fwd IAT Max               30594 non-null  float64\n",
      " 24  Fwd IAT Min               30594 non-null  float64\n",
      " 25  Bwd IAT Total             30594 non-null  float64\n",
      " 26  Bwd IAT Mean              30594 non-null  float32\n",
      " 27  Bwd IAT Std               30594 non-null  float32\n",
      " 28  Bwd IAT Max               30594 non-null  float64\n",
      " 29  Bwd IAT Min               30594 non-null  float64\n",
      " 30  Fwd PSH Flags             30594 non-null  int8   \n",
      " 31  Bwd PSH Flags             30594 non-null  int8   \n",
      " 32  Fwd URG Flags             30594 non-null  int8   \n",
      " 33  Bwd URG Flags             30594 non-null  int8   \n",
      " 34  Fwd Header Length         30594 non-null  int32  \n",
      " 35  Bwd Header Length         30594 non-null  int32  \n",
      " 36  Fwd Packets/s             30594 non-null  float32\n",
      " 37  Bwd Packets/s             30594 non-null  float32\n",
      " 38  Packet Length Min         30594 non-null  int16  \n",
      " 39  Packet Length Max         30594 non-null  int32  \n",
      " 40  Packet Length Mean        30594 non-null  float32\n",
      " 41  Packet Length Std         30594 non-null  float32\n",
      " 42  Packet Length Variance    30594 non-null  float32\n",
      " 43  FIN Flag Count            30594 non-null  int8   \n",
      " 44  SYN Flag Count            30594 non-null  int8   \n",
      " 45  RST Flag Count            30594 non-null  int8   \n",
      " 46  PSH Flag Count            30594 non-null  int8   \n",
      " 47  ACK Flag Count            30594 non-null  int8   \n",
      " 48  URG Flag Count            30594 non-null  int8   \n",
      " 49  CWE Flag Count            30594 non-null  int8   \n",
      " 50  ECE Flag Count            30594 non-null  int8   \n",
      " 51  Down/Up Ratio             30594 non-null  int16  \n",
      " 52  Avg Packet Size           30594 non-null  float32\n",
      " 53  Avg Fwd Segment Size      30594 non-null  float32\n",
      " 54  Avg Bwd Segment Size      30594 non-null  float32\n",
      " 55  Fwd Avg Bytes/Bulk        30594 non-null  int8   \n",
      " 56  Fwd Avg Packets/Bulk      30594 non-null  int8   \n",
      " 57  Fwd Avg Bulk Rate         30594 non-null  int8   \n",
      " 58  Bwd Avg Bytes/Bulk        30594 non-null  int8   \n",
      " 59  Bwd Avg Packets/Bulk      30594 non-null  int8   \n",
      " 60  Bwd Avg Bulk Rate         30594 non-null  int8   \n",
      " 61  Subflow Fwd Packets       30594 non-null  int32  \n",
      " 62  Subflow Fwd Bytes         30594 non-null  int32  \n",
      " 63  Subflow Bwd Packets       30594 non-null  int32  \n",
      " 64  Subflow Bwd Bytes         30594 non-null  int32  \n",
      " 65  Init Fwd Win Bytes        30594 non-null  int32  \n",
      " 66  Init Bwd Win Bytes        30594 non-null  int32  \n",
      " 67  Fwd Act Data Packets      30594 non-null  int32  \n",
      " 68  Fwd Seg Size Min          30594 non-null  int8   \n",
      " 69  Active Mean               30594 non-null  float32\n",
      " 70  Active Std                30594 non-null  float32\n",
      " 71  Active Max                30594 non-null  float64\n",
      " 72  Active Min                30594 non-null  float64\n",
      " 73  Idle Mean                 30594 non-null  float32\n",
      " 74  Idle Std                  30594 non-null  float32\n",
      " 75  Idle Max                  30594 non-null  float64\n",
      " 76  Idle Min                  30594 non-null  float64\n",
      " 77  Label                     30594 non-null  object \n",
      "dtypes: float32(22), float64(15), int16(4), int32(15), int64(1), int8(20), object(1)\n",
      "memory usage: 9.3+ MB\n",
      "None\n",
      "(30594, 78)\n"
     ]
    }
   ],
   "source": [
    "#print(data.info())\n",
    "data = pd.concat([\n",
    "    data[data.Label == 'Benign'].sample(n=10_000),\n",
    "    data[data.Label == 'Dos'].sample(n=10_000),\n",
    "    data[data.Label == 'Bot'].sample(n=10_000),\n",
    "    data[data.Label == 'BruteForce'],\n",
    "    data[data.Label == 'SQL Injection']\n",
    "])\n",
    "print(data.info())\n",
    "print(data.shape)"
   ]
  },
  {
   "cell_type": "code",
   "execution_count": 15,
   "id": "4adde7eb",
   "metadata": {},
   "outputs": [
    {
     "data": {
      "image/png": "[encoded data removed]",
      "text/plain": [
       "<Figure size 800x600 with 1 Axes>"
      ]
     },
     "metadata": {},
     "output_type": "display_data"
    }
   ],
   "source": [
    "# Plotting the distribution of the binary target variable y\n",
    "plt.figure(figsize=(8, 6))\n",
    "sns.countplot(x=data['Label'], palette='Greens')\n",
    "plt.title('Distribution of Binary Target Variable')\n",
    "plt.xlabel('Target Class')\n",
    "plt.ylabel('Count')\n",
    "plt.show()"
   ]
  },
  {
   "cell_type": "code",
   "execution_count": 16,
   "id": "d58acf38",
   "metadata": {},
   "outputs": [
    {
     "data": {
      "text/plain": [
       "array([0, 3, 1, 2, 4])"
      ]
     },
     "execution_count": 16,
     "metadata": {},
     "output_type": "execute_result"
    }
   ],
   "source": [
    "# Import label encoder\n",
    "from sklearn import preprocessing\n",
    "\n",
    "# label_encoder object knows\n",
    "# how to understand word labels.\n",
    "label_encoder = preprocessing.LabelEncoder()\n",
    "\n",
    "# Encode labels in column 'species'.\n",
    "data['Label']= label_encoder.fit_transform(data['Label'])\n",
    "\n",
    "data['Label'].unique()"
   ]
  },
  {
   "cell_type": "code",
   "execution_count": 17,
   "id": "ffdba4ca",
   "metadata": {},
   "outputs": [],
   "source": [
    "X = data.drop([\"Label\"],axis =1)\n",
    "y = data[\"Label\"]"
   ]
  },
  {
   "cell_type": "markdown",
   "id": "ca0d7df0",
   "metadata": {},
   "source": [
    "# FS"
   ]
  },
  {
   "cell_type": "code",
   "execution_count": 18,
   "id": "1a717fc5",
   "metadata": {},
   "outputs": [],
   "source": [
    "from sklearn.feature_selection import SelectKBest, SelectPercentile, mutual_info_classif"
   ]
  },
  {
   "cell_type": "code",
   "execution_count": 19,
   "id": "116f14da",
   "metadata": {},
   "outputs": [],
   "source": [
    "selector = SelectPercentile(mutual_info_classif, percentile=25)\n",
    "X_reduced = selector.fit_transform(X, y)\n",
    "#X_reduced.shape"
   ]
  },
  {
   "cell_type": "code",
   "execution_count": 20,
   "id": "370ee1db",
   "metadata": {},
   "outputs": [
    {
     "data": {
      "text/plain": [
       "['Fwd Packets Length Total',\n",
       " 'Bwd Packets Length Total',\n",
       " 'Fwd Packet Length Max',\n",
       " 'Fwd Packet Length Mean',\n",
       " 'Fwd Packet Length Std',\n",
       " 'Bwd Packet Length Max',\n",
       " 'Bwd Packet Length Mean',\n",
       " 'Bwd Packet Length Std',\n",
       " 'Fwd IAT Total',\n",
       " 'Packet Length Max',\n",
       " 'Packet Length Mean',\n",
       " 'Packet Length Std',\n",
       " 'Packet Length Variance',\n",
       " 'Avg Packet Size',\n",
       " 'Avg Fwd Segment Size',\n",
       " 'Avg Bwd Segment Size',\n",
       " 'Subflow Fwd Bytes',\n",
       " 'Subflow Bwd Bytes',\n",
       " 'Init Fwd Win Bytes']"
      ]
     },
     "execution_count": 20,
     "metadata": {},
     "output_type": "execute_result"
    }
   ],
   "source": [
    "cols = selector.get_support(indices=True)\n",
    "selected_columns = X.iloc[:,cols].columns.tolist()\n",
    "selected_columns"
   ]
  },
  {
   "cell_type": "code",
   "execution_count": 21,
   "id": "3b4d920b",
   "metadata": {},
   "outputs": [
    {
     "data": {
      "text/plain": [
       "19"
      ]
     },
     "execution_count": 21,
     "metadata": {},
     "output_type": "execute_result"
    }
   ],
   "source": [
    "len(selected_columns)"
   ]
  },
  {
   "cell_type": "code",
   "execution_count": 22,
   "id": "4a018e82",
   "metadata": {},
   "outputs": [],
   "source": [
    "df = data[['Fwd Packets Length Total',\n",
    "             'Bwd Packets Length Total',\n",
    "             'Fwd Packet Length Max',\n",
    "             'Fwd Packet Length Mean',\n",
    "             'Fwd Packet Length Std',\n",
    "             'Bwd Packet Length Max',\n",
    "             'Bwd Packet Length Mean',\n",
    "             'Bwd Packet Length Std',\n",
    "             'Fwd IAT Total',\n",
    "             'Packet Length Max',\n",
    "             'Packet Length Mean',\n",
    "             'Packet Length Std',\n",
    "             'Packet Length Variance',\n",
    "             'Avg Packet Size',\n",
    "             'Avg Fwd Segment Size',\n",
    "             'Avg Bwd Segment Size',\n",
    "             'Subflow Fwd Bytes',\n",
    "             'Subflow Bwd Bytes',\n",
    "             'Init Fwd Win Bytes','Label']]"
   ]
  },
  {
   "cell_type": "code",
   "execution_count": 23,
   "id": "85439f9a",
   "metadata": {},
   "outputs": [],
   "source": [
    "df.to_csv('cicids18_processed.csv')"
   ]
  },
  {
   "cell_type": "code",
   "execution_count": 24,
   "id": "f5366b6b",
   "metadata": {},
   "outputs": [],
   "source": [
    "df = pd.read_csv('cicids18_processed.csv')"
   ]
  },
  {
   "cell_type": "code",
   "execution_count": 25,
   "id": "f11d429d",
   "metadata": {},
   "outputs": [],
   "source": [
    "del df['Unnamed: 0']"
   ]
  },
  {
   "cell_type": "code",
   "execution_count": 26,
   "id": "face783e",
   "metadata": {},
   "outputs": [
    {
     "name": "stdout",
     "output_type": "stream",
     "text": [
      "<class 'pandas.core.frame.DataFrame'>\n",
      "RangeIndex: 30594 entries, 0 to 30593\n",
      "Data columns (total 20 columns):\n",
      " #   Column                    Non-Null Count  Dtype  \n",
      "---  ------                    --------------  -----  \n",
      " 0   Fwd Packets Length Total  30594 non-null  int64  \n",
      " 1   Bwd Packets Length Total  30594 non-null  float64\n",
      " 2   Fwd Packet Length Max     30594 non-null  int64  \n",
      " 3   Fwd Packet Length Mean    30594 non-null  float64\n",
      " 4   Fwd Packet Length Std     30594 non-null  float64\n",
      " 5   Bwd Packet Length Max     30594 non-null  int64  \n",
      " 6   Bwd Packet Length Mean    30594 non-null  float64\n",
      " 7   Bwd Packet Length Std     30594 non-null  float64\n",
      " 8   Fwd IAT Total             30594 non-null  float64\n",
      " 9   Packet Length Max         30594 non-null  int64  \n",
      " 10  Packet Length Mean        30594 non-null  float64\n",
      " 11  Packet Length Std         30594 non-null  float64\n",
      " 12  Packet Length Variance    30594 non-null  float64\n",
      " 13  Avg Packet Size           30594 non-null  float64\n",
      " 14  Avg Fwd Segment Size      30594 non-null  float64\n",
      " 15  Avg Bwd Segment Size      30594 non-null  float64\n",
      " 16  Subflow Fwd Bytes         30594 non-null  int64  \n",
      " 17  Subflow Bwd Bytes         30594 non-null  int64  \n",
      " 18  Init Fwd Win Bytes        30594 non-null  int64  \n",
      " 19  Label                     30594 non-null  int64  \n",
      "dtypes: float64(12), int64(8)\n",
      "memory usage: 4.7 MB\n"
     ]
    }
   ],
   "source": [
    "df.info()"
   ]
  },
  {
   "cell_type": "code",
   "execution_count": 27,
   "id": "65582397",
   "metadata": {},
   "outputs": [
    {
     "data": {
      "text/plain": [
       "Index(['Fwd Packets Length Total', 'Bwd Packets Length Total',\n",
       "       'Fwd Packet Length Max', 'Fwd Packet Length Mean',\n",
       "       'Fwd Packet Length Std', 'Bwd Packet Length Max',\n",
       "       'Bwd Packet Length Mean', 'Bwd Packet Length Std', 'Fwd IAT Total',\n",
       "       'Packet Length Max', 'Packet Length Mean', 'Packet Length Std',\n",
       "       'Packet Length Variance', 'Avg Packet Size', 'Avg Fwd Segment Size',\n",
       "       'Avg Bwd Segment Size', 'Subflow Fwd Bytes', 'Subflow Bwd Bytes',\n",
       "       'Init Fwd Win Bytes', 'Label'],\n",
       "      dtype='object')"
      ]
     },
     "execution_count": 27,
     "metadata": {},
     "output_type": "execute_result"
    }
   ],
   "source": [
    "df.columns"
   ]
  },
  {
   "cell_type": "code",
   "execution_count": 28,
   "id": "25e4b081",
   "metadata": {},
   "outputs": [],
   "source": [
    "X = df[['Fwd Packets Length Total', 'Bwd Packets Length Total',\n",
    "       'Fwd Packet Length Max', 'Fwd Packet Length Mean',\n",
    "       'Fwd Packet Length Std', 'Bwd Packet Length Max',\n",
    "       'Bwd Packet Length Mean', 'Bwd Packet Length Std', 'Fwd IAT Total',\n",
    "       'Packet Length Max', 'Packet Length Mean', 'Packet Length Std',\n",
    "       'Packet Length Variance', 'Avg Packet Size', 'Avg Fwd Segment Size',\n",
    "       'Avg Bwd Segment Size', 'Subflow Fwd Bytes', 'Subflow Bwd Bytes',\n",
    "       'Init Fwd Win Bytes']]\n",
    "y = df[\"Label\"]"
   ]
  },
  {
   "cell_type": "code",
   "execution_count": 29,
   "id": "58a01163",
   "metadata": {},
   "outputs": [
    {
     "data": {
      "text/plain": [
       "((24475, 19), (24475,), (6119, 19), (6119,))"
      ]
     },
     "execution_count": 29,
     "metadata": {},
     "output_type": "execute_result"
    }
   ],
   "source": [
    "from sklearn.model_selection import train_test_split\n",
    "\n",
    "X_train, X_test, y_train, y_test = train_test_split(X, y, test_size = 0.20, random_state = 42)\n",
    "X_train.shape, y_train.shape, X_test.shape, y_test.shape"
   ]
  },
  {
   "cell_type": "code",
   "execution_count": 30,
   "id": "2a274fa4",
   "metadata": {},
   "outputs": [],
   "source": [
    "from sklearn.metrics import accuracy_score # for calculating accuracy of model\n",
    "from sklearn.metrics import precision_score\n",
    "from sklearn.metrics import recall_score\n",
    "from sklearn.metrics import f1_score"
   ]
  },
  {
   "cell_type": "code",
   "execution_count": 31,
   "id": "c9c0c894",
   "metadata": {},
   "outputs": [],
   "source": [
    "ML_Model = []\n",
    "accuracy = []\n",
    "precision = []\n",
    "recall = []\n",
    "f1score = []\n",
    "\n",
    "\n",
    "#function to call for storing the results\n",
    "def storeResults(model, a,b,c,d):\n",
    "    ML_Model.append(model)\n",
    "    accuracy.append(round(a, 3))\n",
    "    precision.append(round(b, 3))\n",
    "    recall.append(round(c, 3))\n",
    "    f1score.append(round(d, 3))"
   ]
  },
  {
   "cell_type": "markdown",
   "id": "401c353a",
   "metadata": {},
   "source": [
    "# KNN"
   ]
  },
  {
   "cell_type": "code",
   "execution_count": 32,
   "id": "ad012193",
   "metadata": {},
   "outputs": [],
   "source": [
    "from sklearn.neighbors import KNeighborsClassifier\n",
    "knn = KNeighborsClassifier(n_neighbors=3)\n",
    "knn.fit(X_train, y_train)\n",
    "\n",
    "y_pred    = knn.predict(X_test)\n",
    "\n",
    "knn_acc = accuracy_score(y_pred, y_test)\n",
    "knn_prec = precision_score(y_pred, y_test,average='weighted')\n",
    "knn_rec = recall_score(y_pred, y_test,average='weighted')\n",
    "knn_f1 = f1_score(y_pred, y_test,average='weighted')"
   ]
  },
  {
   "cell_type": "code",
   "execution_count": 33,
   "id": "14310fc2",
   "metadata": {},
   "outputs": [],
   "source": [
    "storeResults('KNN',knn_acc,knn_prec,knn_rec,knn_f1)"
   ]
  },
  {
   "cell_type": "markdown",
   "id": "4323bad1",
   "metadata": {},
   "source": [
    "# Softmax LR"
   ]
  },
  {
   "cell_type": "code",
   "execution_count": 34,
   "id": "f8fe6d42",
   "metadata": {},
   "outputs": [],
   "source": [
    "from sklearn.linear_model import LogisticRegression\n",
    "lr =  LogisticRegression(multi_class = 'multinomial', solver = 'lbfgs')\n",
    "lr.fit(X_train, y_train)\n",
    "\n",
    "y_pred    = lr.predict(X_test)\n",
    "\n",
    "lr_acc = accuracy_score(y_pred, y_test)\n",
    "lr_prec = precision_score(y_pred, y_test,average='weighted')\n",
    "lr_rec = recall_score(y_pred, y_test,average='weighted')\n",
    "lr_f1 = f1_score(y_pred, y_test,average='weighted')"
   ]
  },
  {
   "cell_type": "code",
   "execution_count": 35,
   "id": "b4df5dc8",
   "metadata": {},
   "outputs": [],
   "source": [
    " storeResults('Softmax LR',lr_acc,lr_prec,lr_rec,lr_f1)"
   ]
  },
  {
   "cell_type": "markdown",
   "id": "3a831d46",
   "metadata": {},
   "source": [
    "# Random Forest"
   ]
  },
  {
   "cell_type": "code",
   "execution_count": 36,
   "id": "bfc2c9e0",
   "metadata": {},
   "outputs": [],
   "source": [
    "from sklearn.ensemble import RandomForestClassifier\n",
    "\n",
    "rf = RandomForestClassifier(criterion='entropy',max_features='log2',max_depth=20,n_estimators=600,min_samples_leaf=2)\n",
    "rf.fit(X_train, y_train)\n",
    "\n",
    "y_pred    = rf.predict(X_test)\n",
    "\n",
    "rf_acc = accuracy_score(y_pred, y_test)\n",
    "rf_prec = precision_score(y_pred, y_test,average='weighted')\n",
    "rf_rec = recall_score(y_pred, y_test,average='weighted')\n",
    "rf_f1 = f1_score(y_pred, y_test,average='weighted')"
   ]
  },
  {
   "cell_type": "code",
   "execution_count": 37,
   "id": "0f602ceb",
   "metadata": {},
   "outputs": [],
   "source": [
    "storeResults('RandomForest',rf_acc,rf_prec,rf_rec,rf_f1)"
   ]
  },
  {
   "cell_type": "markdown",
   "id": "7d1bb089",
   "metadata": {},
   "source": [
    "# HAT/Decision Tree"
   ]
  },
  {
   "cell_type": "code",
   "execution_count": 38,
   "id": "bd35eb73",
   "metadata": {},
   "outputs": [],
   "source": [
    "from sklearn.tree import DecisionTreeClassifier\n",
    "\n",
    "dt = DecisionTreeClassifier(criterion='entropy',max_features='log2',max_depth=25,min_samples_leaf=2,min_samples_split=5)\n",
    "\n",
    "dt.fit(X_train, y_train)\n",
    "\n",
    "y_pred = dt.predict(X_test)\n",
    "\n",
    "dt_acc = accuracy_score(y_pred, y_test)\n",
    "dt_prec = precision_score(y_pred, y_test,average='weighted')\n",
    "dt_rec = recall_score(y_pred, y_test,average='weighted')\n",
    "dt_f1 = f1_score(y_pred, y_test,average='weighted')"
   ]
  },
  {
   "cell_type": "code",
   "execution_count": 39,
   "id": "d1373b60",
   "metadata": {},
   "outputs": [],
   "source": [
    " storeResults('HAT/DecisionTree',dt_acc,dt_prec,dt_rec,dt_f1)"
   ]
  },
  {
   "cell_type": "markdown",
   "id": "37019a58",
   "metadata": {},
   "source": [
    "# Majority Voting"
   ]
  },
  {
   "cell_type": "code",
   "execution_count": 40,
   "id": "b5fd47d2",
   "metadata": {},
   "outputs": [],
   "source": [
    "from sklearn.ensemble import VotingClassifier\n",
    "clf = VotingClassifier(estimators=[('KNN', knn), ('LR', lr), ('RF', rf), ('DT', dt)], voting='hard')\n",
    "\n",
    "clf.fit(X_train, y_train)\n",
    "\n",
    "y_pred = clf.predict(X_test)\n",
    "\n",
    "vot_acc = accuracy_score(y_pred, y_test)\n",
    "vot_prec = precision_score(y_pred, y_test,average='weighted')\n",
    "vot_rec = recall_score(y_pred, y_test,average='weighted')\n",
    "vot_f1 = f1_score(y_pred, y_test,average='weighted')"
   ]
  },
  {
   "cell_type": "code",
   "execution_count": 41,
   "id": "3b59a224",
   "metadata": {},
   "outputs": [],
   "source": [
    "storeResults('Majority Voting',vot_acc,vot_prec,vot_rec,vot_f1)"
   ]
  },
  {
   "cell_type": "markdown",
   "id": "898adc22",
   "metadata": {},
   "source": [
    "# Stacking Classifier"
   ]
  },
  {
   "cell_type": "code",
   "execution_count": 42,
   "id": "ea6596c6",
   "metadata": {},
   "outputs": [],
   "source": [
    "from sklearn.ensemble import StackingClassifier, BaggingClassifier\n",
    "\n",
    "estimators = [('rf', rf),('dt', dt)]\n",
    "\n",
    "clf1 = BaggingClassifier(RandomForestClassifier(),n_estimators=10, random_state=0)\n",
    "\n",
    "eclf1 = StackingClassifier(estimators=estimators, final_estimator = clf1)\n",
    "\n",
    "eclf1.fit(X_train, y_train)\n",
    "\n",
    "y_pred = eclf1.predict(X_test)\n",
    "\n",
    "stac_acc = accuracy_score(y_pred, y_test)\n",
    "stac_prec = precision_score(y_pred, y_test,average='weighted')\n",
    "stac_rec = recall_score(y_pred, y_test,average='weighted')\n",
    "stac_f1 = f1_score(y_pred, y_test,average='weighted')"
   ]
  },
  {
   "cell_type": "code",
   "execution_count": 43,
   "id": "dc3246d5",
   "metadata": {},
   "outputs": [],
   "source": [
    "storeResults('Stacking Classifier',stac_acc,stac_prec,stac_rec,stac_f1)"
   ]
  },
  {
   "cell_type": "markdown",
   "id": "934e44f4",
   "metadata": {},
   "source": [
    "# Comparison"
   ]
  },
  {
   "cell_type": "code",
   "execution_count": 44,
   "id": "3e7f3867",
   "metadata": {},
   "outputs": [],
   "source": [
    "#creating dataframe\n",
    "result = pd.DataFrame({ 'ML Model' : ML_Model,\n",
    "                        'Accuracy' : accuracy,\n",
    "                       'Precision': precision,\n",
    "                       'Recall'   : recall, \n",
    "                       'F1_score' : f1score \n",
    "                      }) "
   ]
  },
  {
   "cell_type": "code",
   "execution_count": 45,
   "id": "fc541ddb",
   "metadata": {},
   "outputs": [
    {
     "data": {
      "text/html": [
       "<div>\n",
       "<style scoped>\n",
       "    .dataframe tbody tr th:only-of-type {\n",
       "        vertical-align: middle;\n",
       "    }\n",
       "\n",
       "    .dataframe tbody tr th {\n",
       "        vertical-align: top;\n",
       "    }\n",
       "\n",
       "    .dataframe thead th {\n",
       "        text-align: right;\n",
       "    }\n",
       "</style>\n",
       "<table border=\"1\" class=\"dataframe\">\n",
       "  <thead>\n",
       "    <tr style=\"text-align: right;\">\n",
       "      <th></th>\n",
       "      <th>ML Model</th>\n",
       "      <th>Accuracy</th>\n",
       "      <th>Precision</th>\n",
       "      <th>Recall</th>\n",
       "      <th>F1_score</th>\n",
       "    </tr>\n",
       "  </thead>\n",
       "  <tbody>\n",
       "    <tr>\n",
       "      <th>0</th>\n",
       "      <td>KNN</td>\n",
       "      <td>0.903</td>\n",
       "      <td>0.903</td>\n",
       "      <td>0.903</td>\n",
       "      <td>0.903</td>\n",
       "    </tr>\n",
       "    <tr>\n",
       "      <th>1</th>\n",
       "      <td>Softmax LR</td>\n",
       "      <td>0.470</td>\n",
       "      <td>0.650</td>\n",
       "      <td>0.470</td>\n",
       "      <td>0.529</td>\n",
       "    </tr>\n",
       "    <tr>\n",
       "      <th>2</th>\n",
       "      <td>RandomForest</td>\n",
       "      <td>0.940</td>\n",
       "      <td>0.944</td>\n",
       "      <td>0.940</td>\n",
       "      <td>0.941</td>\n",
       "    </tr>\n",
       "    <tr>\n",
       "      <th>3</th>\n",
       "      <td>HAT/DecisionTree</td>\n",
       "      <td>0.930</td>\n",
       "      <td>0.931</td>\n",
       "      <td>0.930</td>\n",
       "      <td>0.930</td>\n",
       "    </tr>\n",
       "    <tr>\n",
       "      <th>4</th>\n",
       "      <td>Majority Voting</td>\n",
       "      <td>0.929</td>\n",
       "      <td>0.935</td>\n",
       "      <td>0.929</td>\n",
       "      <td>0.929</td>\n",
       "    </tr>\n",
       "    <tr>\n",
       "      <th>5</th>\n",
       "      <td>Stacking Classifier</td>\n",
       "      <td>0.948</td>\n",
       "      <td>0.950</td>\n",
       "      <td>0.948</td>\n",
       "      <td>0.948</td>\n",
       "    </tr>\n",
       "  </tbody>\n",
       "</table>\n",
       "</div>"
      ],
      "text/plain": [
       "              ML Model  Accuracy  Precision  Recall  F1_score\n",
       "0                  KNN     0.903      0.903   0.903     0.903\n",
       "1           Softmax LR     0.470      0.650   0.470     0.529\n",
       "2         RandomForest     0.940      0.944   0.940     0.941\n",
       "3     HAT/DecisionTree     0.930      0.931   0.930     0.930\n",
       "4      Majority Voting     0.929      0.935   0.929     0.929\n",
       "5  Stacking Classifier     0.948      0.950   0.948     0.948"
      ]
     },
     "execution_count": 45,
     "metadata": {},
     "output_type": "execute_result"
    }
   ],
   "source": [
    "result"
   ]
  },
  {
   "cell_type": "markdown",
   "id": "bc55f1be",
   "metadata": {},
   "source": [
    "# Modelling"
   ]
  },
  {
   "cell_type": "code",
   "execution_count": 46,
   "id": "34a4bb71",
   "metadata": {},
   "outputs": [
    {
     "data": {
      "text/plain": [
       "['models/cicids2018/model_org.sav']"
      ]
     },
     "execution_count": 46,
     "metadata": {},
     "output_type": "execute_result"
    }
   ],
   "source": [
    "import joblib\n",
    "filename = 'models/cicids2018/model_org.sav'\n",
    "joblib.dump(eclf1, filename)"
   ]
  },
  {
   "cell_type": "markdown",
   "id": "6d68e72d",
   "metadata": {},
   "source": [
    "# Graph"
   ]
  },
  {
   "cell_type": "code",
   "execution_count": 48,
   "id": "8e5b9cff",
   "metadata": {},
   "outputs": [],
   "source": [
    "classifier = ML_Model\n",
    "y_pos = np.arange(len(classifier))"
   ]
  },
  {
   "cell_type": "markdown",
   "id": "10aeeee2",
   "metadata": {},
   "source": [
    "# Accuracy"
   ]
  },
  {
   "cell_type": "code",
   "execution_count": 49,
   "id": "25896f4b",
   "metadata": {},
   "outputs": [
    {
     "data": {
      "image/png": "[encoded data removed]",
      "text/plain": [
       "<Figure size 640x480 with 1 Axes>"
      ]
     },
     "metadata": {},
     "output_type": "display_data"
    }
   ],
   "source": [
    "import matplotlib.pyplot as plt2\n",
    "plt2.barh(y_pos, accuracy, align='center', alpha=0.5,color='blue')\n",
    "plt2.yticks(y_pos, classifier)\n",
    "plt2.xlabel('Accuracy Score')\n",
    "plt2.title('Classification Performance')\n",
    "plt2.show()"
   ]
  },
  {
   "cell_type": "markdown",
   "id": "834fb8a8",
   "metadata": {},
   "source": [
    "# Precision"
   ]
  },
  {
   "cell_type": "code",
   "execution_count": 50,
   "id": "54db2522",
   "metadata": {},
   "outputs": [
    {
     "data": {
      "image/png": "[encoded data removed]",
      "text/plain": [
       "<Figure size 640x480 with 1 Axes>"
      ]
     },
     "metadata": {},
     "output_type": "display_data"
    }
   ],
   "source": [
    "plt2.barh(y_pos, precision, align='center', alpha=0.5,color='red')\n",
    "plt2.yticks(y_pos, classifier)\n",
    "plt2.xlabel('Precision Score')\n",
    "plt2.title('Classification Performance')\n",
    "plt2.show()"
   ]
  },
  {
   "cell_type": "markdown",
   "id": "b054d405",
   "metadata": {},
   "source": [
    "# Recall"
   ]
  },
  {
   "cell_type": "code",
   "execution_count": 51,
   "id": "7758bf9b",
   "metadata": {},
   "outputs": [
    {
     "data": {
      "image/png": "[encoded data removed]",
      "text/plain": [
       "<Figure size 640x480 with 1 Axes>"
      ]
     },
     "metadata": {},
     "output_type": "display_data"
    }
   ],
   "source": [
    "plt2.barh(y_pos, recall, align='center', alpha=0.5,color='yellow')\n",
    "plt2.yticks(y_pos, classifier)\n",
    "plt2.xlabel('Recall Score')\n",
    "plt2.title('Classification Performance')\n",
    "plt2.show()"
   ]
  },
  {
   "cell_type": "markdown",
   "id": "ba8d438e",
   "metadata": {},
   "source": [
    "# F1 Score"
   ]
  },
  {
   "cell_type": "code",
   "execution_count": 52,
   "id": "b3a78e91",
   "metadata": {},
   "outputs": [
    {
     "data": {
      "image/png": "[encoded data removed]",
      "text/plain": [
       "<Figure size 640x480 with 1 Axes>"
      ]
     },
     "metadata": {},
     "output_type": "display_data"
    }
   ],
   "source": [
    "plt2.barh(y_pos, f1score, align='center', alpha=0.5,color='navy')\n",
    "plt2.yticks(y_pos, classifier)\n",
    "plt2.xlabel('F1 Score')\n",
    "plt2.title('Classification Performance')\n",
    "plt2.show()"
   ]
  },
  {
   "cell_type": "markdown",
   "id": "69b02e75",
   "metadata": {},
   "source": [
    "# Random UnderSampling"
   ]
  },
  {
   "cell_type": "code",
   "execution_count": 53,
   "id": "bb3572f1",
   "metadata": {},
   "outputs": [],
   "source": [
    "X = df[['Fwd Packets Length Total', 'Bwd Packets Length Total',\n",
    "       'Fwd Packet Length Max', 'Fwd Packet Length Mean',\n",
    "       'Fwd Packet Length Std', 'Bwd Packet Length Max',\n",
    "       'Bwd Packet Length Mean', 'Bwd Packet Length Std', 'Fwd IAT Total',\n",
    "       'Packet Length Max', 'Packet Length Mean', 'Packet Length Std',\n",
    "       'Packet Length Variance', 'Avg Packet Size', 'Avg Fwd Segment Size',\n",
    "       'Avg Bwd Segment Size', 'Subflow Fwd Bytes', 'Subflow Bwd Bytes',\n",
    "       'Init Fwd Win Bytes']]\n",
    "y = df[\"Label\"]"
   ]
  },
  {
   "cell_type": "code",
   "execution_count": 54,
   "id": "6e5999ae",
   "metadata": {},
   "outputs": [],
   "source": [
    "from imblearn.under_sampling import RandomUnderSampler"
   ]
  },
  {
   "cell_type": "code",
   "execution_count": 55,
   "id": "1a792f42",
   "metadata": {},
   "outputs": [],
   "source": [
    "rus = RandomUnderSampler(random_state=0)\n",
    "X_resampled, y_resampled = rus.fit_resample(X, y)"
   ]
  },
  {
   "cell_type": "code",
   "execution_count": 56,
   "id": "5b58c68e",
   "metadata": {},
   "outputs": [
    {
     "data": {
      "text/plain": [
       "((204, 19), (204,), (51, 19), (51,))"
      ]
     },
     "execution_count": 56,
     "metadata": {},
     "output_type": "execute_result"
    }
   ],
   "source": [
    "X_train, X_test, y_train, y_test = train_test_split(X_resampled, y_resampled, test_size = 0.20, random_state = 42)\n",
    "X_train.shape, y_train.shape, X_test.shape, y_test.shape"
   ]
  },
  {
   "cell_type": "code",
   "execution_count": 57,
   "id": "18eeae5d",
   "metadata": {},
   "outputs": [],
   "source": [
    "ML_Model = []\n",
    "accuracy = []\n",
    "precision = []\n",
    "recall = []\n",
    "f1score = []\n",
    "\n",
    "\n",
    "#function to call for storing the results\n",
    "def storeResults(model, a,b,c,d):\n",
    "    ML_Model.append(model)\n",
    "    accuracy.append(round(a, 3))\n",
    "    precision.append(round(b, 3))\n",
    "    recall.append(round(c, 3))\n",
    "    f1score.append(round(d, 3))"
   ]
  },
  {
   "cell_type": "markdown",
   "id": "43c12fa2",
   "metadata": {},
   "source": [
    "# KNN"
   ]
  },
  {
   "cell_type": "code",
   "execution_count": 58,
   "id": "f387da66",
   "metadata": {},
   "outputs": [],
   "source": [
    "from sklearn.neighbors import KNeighborsClassifier\n",
    "knn = KNeighborsClassifier(n_neighbors=3)\n",
    "knn.fit(X_train, y_train)\n",
    "\n",
    "y_pred    = knn.predict(X_test)\n",
    "\n",
    "knn_acc = accuracy_score(y_pred, y_test)\n",
    "knn_prec = precision_score(y_pred, y_test,average='weighted')\n",
    "knn_rec = recall_score(y_pred, y_test,average='weighted')\n",
    "knn_f1 = f1_score(y_pred, y_test,average='weighted')"
   ]
  },
  {
   "cell_type": "code",
   "execution_count": 59,
   "id": "440b826a",
   "metadata": {},
   "outputs": [],
   "source": [
    "storeResults('KNN',knn_acc,knn_prec,knn_rec,knn_f1)"
   ]
  },
  {
   "cell_type": "markdown",
   "id": "2860e71c",
   "metadata": {},
   "source": [
    "# Softmax LR"
   ]
  },
  {
   "cell_type": "code",
   "execution_count": 60,
   "id": "5e6b62f5",
   "metadata": {},
   "outputs": [],
   "source": [
    "from sklearn.linear_model import LogisticRegression\n",
    "lr =  LogisticRegression(multi_class = 'multinomial', solver = 'lbfgs')\n",
    "lr.fit(X_train, y_train)\n",
    "\n",
    "y_pred    = lr.predict(X_test)\n",
    "\n",
    "lr_acc = accuracy_score(y_pred, y_test)\n",
    "lr_prec = precision_score(y_pred, y_test,average='weighted')\n",
    "lr_rec = recall_score(y_pred, y_test,average='weighted')\n",
    "lr_f1 = f1_score(y_pred, y_test,average='weighted')"
   ]
  },
  {
   "cell_type": "code",
   "execution_count": 61,
   "id": "00ed1747",
   "metadata": {},
   "outputs": [],
   "source": [
    " storeResults('Softmax LR',lr_acc,lr_prec,lr_rec,lr_f1)"
   ]
  },
  {
   "cell_type": "markdown",
   "id": "deed80d3",
   "metadata": {},
   "source": [
    "# Random Forest"
   ]
  },
  {
   "cell_type": "code",
   "execution_count": 62,
   "id": "d9c361a8",
   "metadata": {},
   "outputs": [],
   "source": [
    "from sklearn.ensemble import RandomForestClassifier\n",
    "\n",
    "rf = RandomForestClassifier(criterion='entropy',max_features='log2',max_depth=20,n_estimators=600,min_samples_leaf=2)\n",
    "rf.fit(X_train, y_train)\n",
    "\n",
    "y_pred    = rf.predict(X_test)\n",
    "\n",
    "rf_acc = accuracy_score(y_pred, y_test)\n",
    "rf_prec = precision_score(y_pred, y_test,average='weighted')\n",
    "rf_rec = recall_score(y_pred, y_test,average='weighted')\n",
    "rf_f1 = f1_score(y_pred, y_test,average='weighted')"
   ]
  },
  {
   "cell_type": "code",
   "execution_count": 63,
   "id": "a8210dfc",
   "metadata": {},
   "outputs": [],
   "source": [
    "storeResults('RandomForest',rf_acc,rf_prec,rf_rec,rf_f1)"
   ]
  },
  {
   "cell_type": "markdown",
   "id": "d64db2cd",
   "metadata": {},
   "source": [
    "# HAT/Decision Tree"
   ]
  },
  {
   "cell_type": "code",
   "execution_count": 64,
   "id": "4d9f0c7a",
   "metadata": {},
   "outputs": [],
   "source": [
    "from sklearn.tree import DecisionTreeClassifier\n",
    "\n",
    "dt = DecisionTreeClassifier(criterion='entropy',max_features='log2',max_depth=25,min_samples_leaf=2,min_samples_split=5)\n",
    "\n",
    "dt.fit(X_train, y_train)\n",
    "\n",
    "y_pred = dt.predict(X_test)\n",
    "\n",
    "dt_acc = accuracy_score(y_pred, y_test)\n",
    "dt_prec = precision_score(y_pred, y_test,average='weighted')\n",
    "dt_rec = recall_score(y_pred, y_test,average='weighted')\n",
    "dt_f1 = f1_score(y_pred, y_test,average='weighted')"
   ]
  },
  {
   "cell_type": "code",
   "execution_count": 65,
   "id": "8c1f9456",
   "metadata": {},
   "outputs": [],
   "source": [
    "storeResults('HAT/DecisionTree',dt_acc,dt_prec,dt_rec,dt_f1)"
   ]
  },
  {
   "cell_type": "markdown",
   "id": "7af42d74",
   "metadata": {},
   "source": [
    "# Majority Voting"
   ]
  },
  {
   "cell_type": "code",
   "execution_count": 66,
   "id": "983320b3",
   "metadata": {},
   "outputs": [],
   "source": [
    "from sklearn.ensemble import VotingClassifier\n",
    "clf = VotingClassifier(estimators=[('KNN', knn), ('LR', lr), ('RF', rf), ('DT', dt)], voting='hard')\n",
    "\n",
    "clf.fit(X_train, y_train)\n",
    "\n",
    "y_pred = clf.predict(X_test)\n",
    "\n",
    "vot_acc = accuracy_score(y_pred, y_test)\n",
    "vot_prec = precision_score(y_pred, y_test,average='weighted')\n",
    "vot_rec = recall_score(y_pred, y_test,average='weighted')\n",
    "vot_f1 = f1_score(y_pred, y_test,average='weighted')"
   ]
  },
  {
   "cell_type": "code",
   "execution_count": 67,
   "id": "ff4c0ee6",
   "metadata": {},
   "outputs": [],
   "source": [
    "storeResults('Majority Voting',vot_acc,vot_prec,vot_rec,vot_f1)"
   ]
  },
  {
   "cell_type": "markdown",
   "id": "ae1052f1",
   "metadata": {},
   "source": [
    "# Stacking Classifier"
   ]
  },
  {
   "cell_type": "code",
   "execution_count": 68,
   "id": "cf1a8918",
   "metadata": {},
   "outputs": [],
   "source": [
    "from sklearn.ensemble import StackingClassifier, BaggingClassifier\n",
    "\n",
    "estimators = [('rf', rf),('dt', dt)]\n",
    "\n",
    "clf1 = BaggingClassifier(RandomForestClassifier(),n_estimators=10, random_state=0)\n",
    "\n",
    "eclf1 = StackingClassifier(estimators=estimators, final_estimator = clf1)\n",
    "\n",
    "eclf1.fit(X_train, y_train)\n",
    "\n",
    "y_pred = eclf1.predict(X_test)\n",
    "\n",
    "stac_acc = accuracy_score(y_pred, y_test)\n",
    "stac_prec = precision_score(y_pred, y_test,average='weighted')\n",
    "stac_rec = recall_score(y_pred, y_test,average='weighted')\n",
    "stac_f1 = f1_score(y_pred, y_test,average='weighted')"
   ]
  },
  {
   "cell_type": "code",
   "execution_count": 69,
   "id": "dcfe301d",
   "metadata": {},
   "outputs": [],
   "source": [
    "storeResults('Stacking Classifier',stac_acc,stac_prec,stac_rec,stac_f1)"
   ]
  },
  {
   "cell_type": "markdown",
   "id": "2d580b5c",
   "metadata": {},
   "source": [
    "# Comparison"
   ]
  },
  {
   "cell_type": "code",
   "execution_count": 70,
   "id": "8ee9bac6",
   "metadata": {},
   "outputs": [],
   "source": [
    "#creating dataframe\n",
    "result = pd.DataFrame({ 'ML Model' : ML_Model,\n",
    "                        'Accuracy' : accuracy,\n",
    "                       'Precision': precision,\n",
    "                       'Recall'   : recall, \n",
    "                       'F1_score' : f1score \n",
    "                      }) "
   ]
  },
  {
   "cell_type": "code",
   "execution_count": 71,
   "id": "7948e1a7",
   "metadata": {},
   "outputs": [
    {
     "data": {
      "text/html": [
       "<div>\n",
       "<style scoped>\n",
       "    .dataframe tbody tr th:only-of-type {\n",
       "        vertical-align: middle;\n",
       "    }\n",
       "\n",
       "    .dataframe tbody tr th {\n",
       "        vertical-align: top;\n",
       "    }\n",
       "\n",
       "    .dataframe thead th {\n",
       "        text-align: right;\n",
       "    }\n",
       "</style>\n",
       "<table border=\"1\" class=\"dataframe\">\n",
       "  <thead>\n",
       "    <tr style=\"text-align: right;\">\n",
       "      <th></th>\n",
       "      <th>ML Model</th>\n",
       "      <th>Accuracy</th>\n",
       "      <th>Precision</th>\n",
       "      <th>Recall</th>\n",
       "      <th>F1_score</th>\n",
       "    </tr>\n",
       "  </thead>\n",
       "  <tbody>\n",
       "    <tr>\n",
       "      <th>0</th>\n",
       "      <td>KNN</td>\n",
       "      <td>0.784</td>\n",
       "      <td>0.804</td>\n",
       "      <td>0.784</td>\n",
       "      <td>0.783</td>\n",
       "    </tr>\n",
       "    <tr>\n",
       "      <th>1</th>\n",
       "      <td>Softmax LR</td>\n",
       "      <td>0.392</td>\n",
       "      <td>0.653</td>\n",
       "      <td>0.392</td>\n",
       "      <td>0.434</td>\n",
       "    </tr>\n",
       "    <tr>\n",
       "      <th>2</th>\n",
       "      <td>RandomForest</td>\n",
       "      <td>0.922</td>\n",
       "      <td>0.938</td>\n",
       "      <td>0.922</td>\n",
       "      <td>0.921</td>\n",
       "    </tr>\n",
       "    <tr>\n",
       "      <th>3</th>\n",
       "      <td>HAT/DecisionTree</td>\n",
       "      <td>0.647</td>\n",
       "      <td>0.850</td>\n",
       "      <td>0.647</td>\n",
       "      <td>0.664</td>\n",
       "    </tr>\n",
       "    <tr>\n",
       "      <th>4</th>\n",
       "      <td>Majority Voting</td>\n",
       "      <td>0.863</td>\n",
       "      <td>0.901</td>\n",
       "      <td>0.863</td>\n",
       "      <td>0.862</td>\n",
       "    </tr>\n",
       "    <tr>\n",
       "      <th>5</th>\n",
       "      <td>Stacking Classifier</td>\n",
       "      <td>0.961</td>\n",
       "      <td>0.964</td>\n",
       "      <td>0.961</td>\n",
       "      <td>0.960</td>\n",
       "    </tr>\n",
       "  </tbody>\n",
       "</table>\n",
       "</div>"
      ],
      "text/plain": [
       "              ML Model  Accuracy  Precision  Recall  F1_score\n",
       "0                  KNN     0.784      0.804   0.784     0.783\n",
       "1           Softmax LR     0.392      0.653   0.392     0.434\n",
       "2         RandomForest     0.922      0.938   0.922     0.921\n",
       "3     HAT/DecisionTree     0.647      0.850   0.647     0.664\n",
       "4      Majority Voting     0.863      0.901   0.863     0.862\n",
       "5  Stacking Classifier     0.961      0.964   0.961     0.960"
      ]
     },
     "execution_count": 71,
     "metadata": {},
     "output_type": "execute_result"
    }
   ],
   "source": [
    "result"
   ]
  },
  {
   "cell_type": "code",
   "execution_count": 72,
   "id": "0faf8c23",
   "metadata": {},
   "outputs": [
    {
     "data": {
      "text/plain": [
       "['models/cicids2018/model_und.sav']"
      ]
     },
     "execution_count": 72,
     "metadata": {},
     "output_type": "execute_result"
    }
   ],
   "source": [
    "import joblib\n",
    "filename = 'models/cicids2018/model_und.sav'\n",
    "joblib.dump(eclf1, filename)"
   ]
  },
  {
   "cell_type": "markdown",
   "id": "a23ea8f9",
   "metadata": {},
   "source": [
    "# Graph"
   ]
  },
  {
   "cell_type": "code",
   "execution_count": 74,
   "id": "dea94c4d",
   "metadata": {},
   "outputs": [],
   "source": [
    "classifier = ML_Model\n",
    "y_pos = np.arange(len(classifier))"
   ]
  },
  {
   "cell_type": "markdown",
   "id": "6f49b4df",
   "metadata": {},
   "source": [
    "# Accuracy"
   ]
  },
  {
   "cell_type": "code",
   "execution_count": 75,
   "id": "f8f6355d",
   "metadata": {},
   "outputs": [
    {
     "data": {
      "image/png": "[encoded data removed]",
      "text/plain": [
       "<Figure size 640x480 with 1 Axes>"
      ]
     },
     "metadata": {},
     "output_type": "display_data"
    }
   ],
   "source": [
    "import matplotlib.pyplot as plt2\n",
    "plt2.barh(y_pos, accuracy, align='center', alpha=0.5,color='blue')\n",
    "plt2.yticks(y_pos, classifier)\n",
    "plt2.xlabel('Accuracy Score')\n",
    "plt2.title('Classification Performance')\n",
    "plt2.show()"
   ]
  },
  {
   "cell_type": "markdown",
   "id": "688d85f6",
   "metadata": {},
   "source": [
    "# Precision"
   ]
  },
  {
   "cell_type": "code",
   "execution_count": 76,
   "id": "fba12131",
   "metadata": {},
   "outputs": [
    {
     "data": {
      "image/png": "[encoded data removed]",
      "text/plain": [
       "<Figure size 640x480 with 1 Axes>"
      ]
     },
     "metadata": {},
     "output_type": "display_data"
    }
   ],
   "source": [
    "plt2.barh(y_pos, precision, align='center', alpha=0.5,color='red')\n",
    "plt2.yticks(y_pos, classifier)\n",
    "plt2.xlabel('Precision Score')\n",
    "plt2.title('Classification Performance')\n",
    "plt2.show()"
   ]
  },
  {
   "cell_type": "markdown",
   "id": "b1e3b243",
   "metadata": {},
   "source": [
    "# Recall"
   ]
  },
  {
   "cell_type": "code",
   "execution_count": 77,
   "id": "1b4a1997",
   "metadata": {},
   "outputs": [
    {
     "data": {
      "image/png": "[encoded data removed]",
      "text/plain": [
       "<Figure size 640x480 with 1 Axes>"
      ]
     },
     "metadata": {},
     "output_type": "display_data"
    }
   ],
   "source": [
    "plt2.barh(y_pos, recall, align='center', alpha=0.5,color='yellow')\n",
    "plt2.yticks(y_pos, classifier)\n",
    "plt2.xlabel('Recall Score')\n",
    "plt2.title('Classification Performance')\n",
    "plt2.show()"
   ]
  },
  {
   "cell_type": "markdown",
   "id": "90af558b",
   "metadata": {},
   "source": [
    "# F1 Score"
   ]
  },
  {
   "cell_type": "code",
   "execution_count": 78,
   "id": "f3ccef08",
   "metadata": {},
   "outputs": [
    {
     "data": {
      "image/png": "[encoded data removed]",
      "text/plain": [
       "<Figure size 640x480 with 1 Axes>"
      ]
     },
     "metadata": {},
     "output_type": "display_data"
    }
   ],
   "source": [
    "plt2.barh(y_pos, f1score, align='center', alpha=0.5,color='navy')\n",
    "plt2.yticks(y_pos, classifier)\n",
    "plt2.xlabel('F1 Score')\n",
    "plt2.title('Classification Performance')\n",
    "plt2.show()"
   ]
  },
  {
   "cell_type": "markdown",
   "id": "294469ae",
   "metadata": {},
   "source": [
    "# Random OverSampling"
   ]
  },
  {
   "cell_type": "code",
   "execution_count": 79,
   "id": "b6c3e7e3",
   "metadata": {},
   "outputs": [],
   "source": [
    "X = df[['Fwd Packets Length Total', 'Bwd Packets Length Total',\n",
    "       'Fwd Packet Length Max', 'Fwd Packet Length Mean',\n",
    "       'Fwd Packet Length Std', 'Bwd Packet Length Max',\n",
    "       'Bwd Packet Length Mean', 'Bwd Packet Length Std', 'Fwd IAT Total',\n",
    "       'Packet Length Max', 'Packet Length Mean', 'Packet Length Std',\n",
    "       'Packet Length Variance', 'Avg Packet Size', 'Avg Fwd Segment Size',\n",
    "       'Avg Bwd Segment Size', 'Subflow Fwd Bytes', 'Subflow Bwd Bytes',\n",
    "       'Init Fwd Win Bytes']]\n",
    "y = df[\"Label\"]"
   ]
  },
  {
   "cell_type": "code",
   "execution_count": 80,
   "id": "fc1255ab",
   "metadata": {},
   "outputs": [],
   "source": [
    "from imblearn.over_sampling import RandomOverSampler"
   ]
  },
  {
   "cell_type": "code",
   "execution_count": 81,
   "id": "41a75c39",
   "metadata": {},
   "outputs": [],
   "source": [
    "ros = RandomOverSampler(random_state=0)\n",
    "X_resampled, y_resampled = ros.fit_resample(X, y)"
   ]
  },
  {
   "cell_type": "code",
   "execution_count": 82,
   "id": "74041fe4",
   "metadata": {},
   "outputs": [
    {
     "data": {
      "text/plain": [
       "((40000, 19), (40000,), (10000, 19), (10000,))"
      ]
     },
     "execution_count": 82,
     "metadata": {},
     "output_type": "execute_result"
    }
   ],
   "source": [
    "X_train, X_test, y_train, y_test = train_test_split(X_resampled, y_resampled, test_size = 0.20, random_state = 42)\n",
    "X_train.shape, y_train.shape, X_test.shape, y_test.shape"
   ]
  },
  {
   "cell_type": "code",
   "execution_count": 83,
   "id": "213fa17e",
   "metadata": {},
   "outputs": [],
   "source": [
    "ML_Model = []\n",
    "accuracy = []\n",
    "precision = []\n",
    "recall = []\n",
    "f1score = []\n",
    "\n",
    "\n",
    "#function to call for storing the results\n",
    "def storeResults(model, a,b,c,d):\n",
    "    ML_Model.append(model)\n",
    "    accuracy.append(round(a, 3))\n",
    "    precision.append(round(b, 3))\n",
    "    recall.append(round(c, 3))\n",
    "    f1score.append(round(d, 3))"
   ]
  },
  {
   "cell_type": "markdown",
   "id": "8776ad21",
   "metadata": {},
   "source": [
    "# KNN"
   ]
  },
  {
   "cell_type": "code",
   "execution_count": 84,
   "id": "14eed4ab",
   "metadata": {},
   "outputs": [],
   "source": [
    "knn = KNeighborsClassifier(n_neighbors=3)\n",
    "knn.fit(X_train, y_train)\n",
    "\n",
    "y_pred    = knn.predict(X_test)\n",
    "\n",
    "knn_acc = accuracy_score(y_pred, y_test)\n",
    "knn_prec = precision_score(y_pred, y_test,average='weighted')\n",
    "knn_rec = recall_score(y_pred, y_test,average='weighted')\n",
    "knn_f1 = f1_score(y_pred, y_test,average='weighted')"
   ]
  },
  {
   "cell_type": "code",
   "execution_count": 85,
   "id": "13b4d78b",
   "metadata": {},
   "outputs": [],
   "source": [
    "storeResults('KNN',knn_acc,knn_prec,knn_rec,knn_f1)"
   ]
  },
  {
   "cell_type": "markdown",
   "id": "23b52017",
   "metadata": {},
   "source": [
    "# Softmax LR"
   ]
  },
  {
   "cell_type": "code",
   "execution_count": 86,
   "id": "8b518ad2",
   "metadata": {},
   "outputs": [],
   "source": [
    "lr =  LogisticRegression(multi_class = 'multinomial', solver = 'lbfgs')\n",
    "lr.fit(X_train, y_train)\n",
    "\n",
    "y_pred    = lr.predict(X_test)\n",
    "\n",
    "lr_acc = accuracy_score(y_pred, y_test)\n",
    "lr_prec = precision_score(y_pred, y_test,average='weighted')\n",
    "lr_rec = recall_score(y_pred, y_test,average='weighted')\n",
    "lr_f1 = f1_score(y_pred, y_test,average='weighted')"
   ]
  },
  {
   "cell_type": "code",
   "execution_count": 87,
   "id": "f7ae8bdb",
   "metadata": {},
   "outputs": [],
   "source": [
    " storeResults('Softmax LR',lr_acc,lr_prec,lr_rec,lr_f1)"
   ]
  },
  {
   "cell_type": "markdown",
   "id": "54aa6358",
   "metadata": {},
   "source": [
    "# Random Forest"
   ]
  },
  {
   "cell_type": "code",
   "execution_count": 88,
   "id": "5caeb684",
   "metadata": {},
   "outputs": [],
   "source": [
    "rf = RandomForestClassifier(criterion='entropy',max_features='log2',max_depth=20,n_estimators=600,min_samples_leaf=2)\n",
    "rf.fit(X_train, y_train)\n",
    "\n",
    "y_pred    = rf.predict(X_test)\n",
    "\n",
    "rf_acc = accuracy_score(y_pred, y_test)\n",
    "rf_prec = precision_score(y_pred, y_test,average='weighted')\n",
    "rf_rec = recall_score(y_pred, y_test,average='weighted')\n",
    "rf_f1 = f1_score(y_pred, y_test,average='weighted')"
   ]
  },
  {
   "cell_type": "code",
   "execution_count": 89,
   "id": "b56a1460",
   "metadata": {},
   "outputs": [],
   "source": [
    "storeResults('RandomForest',rf_acc,rf_prec,rf_rec,rf_f1)"
   ]
  },
  {
   "cell_type": "markdown",
   "id": "b969f0d2",
   "metadata": {},
   "source": [
    "# HAT/Decision Tree"
   ]
  },
  {
   "cell_type": "code",
   "execution_count": 90,
   "id": "d5512719",
   "metadata": {},
   "outputs": [],
   "source": [
    "dt = DecisionTreeClassifier(criterion='entropy',max_features='log2',max_depth=25,min_samples_leaf=2,min_samples_split=5)\n",
    "\n",
    "dt.fit(X_train, y_train)\n",
    "\n",
    "y_pred = dt.predict(X_test)\n",
    "\n",
    "dt_acc = accuracy_score(y_pred, y_test)\n",
    "dt_prec = precision_score(y_pred, y_test,average='weighted')\n",
    "dt_rec = recall_score(y_pred, y_test,average='weighted')\n",
    "dt_f1 = f1_score(y_pred, y_test,average='weighted')"
   ]
  },
  {
   "cell_type": "code",
   "execution_count": 91,
   "id": "ee3a1758",
   "metadata": {},
   "outputs": [],
   "source": [
    "storeResults('HAT/DecisionTree',dt_acc,dt_prec,dt_rec,dt_f1)"
   ]
  },
  {
   "cell_type": "markdown",
   "id": "8739278c",
   "metadata": {},
   "source": [
    "# Majority Voting"
   ]
  },
  {
   "cell_type": "code",
   "execution_count": 92,
   "id": "17309d02",
   "metadata": {},
   "outputs": [],
   "source": [
    "clf = VotingClassifier(estimators=[('KNN', knn), ('LR', lr), ('RF', rf), ('DT', dt)], voting='hard')\n",
    "\n",
    "clf.fit(X_train, y_train)\n",
    "\n",
    "y_pred = clf.predict(X_test)\n",
    "\n",
    "vot_acc = accuracy_score(y_pred, y_test)\n",
    "vot_prec = precision_score(y_pred, y_test,average='weighted')\n",
    "vot_rec = recall_score(y_pred, y_test,average='weighted')\n",
    "vot_f1 = f1_score(y_pred, y_test,average='weighted')"
   ]
  },
  {
   "cell_type": "code",
   "execution_count": 93,
   "id": "972a50c0",
   "metadata": {},
   "outputs": [],
   "source": [
    "storeResults('Majority Voting',vot_acc,vot_prec,vot_rec,vot_f1)"
   ]
  },
  {
   "cell_type": "markdown",
   "id": "58f3afcb",
   "metadata": {},
   "source": [
    "# Stacking Classifier"
   ]
  },
  {
   "cell_type": "code",
   "execution_count": 94,
   "id": "97ed031a",
   "metadata": {},
   "outputs": [],
   "source": [
    "estimators = [('rf', rf),('dt', dt)]\n",
    "\n",
    "clf1 = BaggingClassifier(RandomForestClassifier(),n_estimators=10, random_state=0)\n",
    "\n",
    "eclf1 = StackingClassifier(estimators=estimators, final_estimator = clf1)\n",
    "\n",
    "eclf1.fit(X_train, y_train)\n",
    "\n",
    "y_pred = eclf1.predict(X_test)\n",
    "\n",
    "stac_acc = accuracy_score(y_pred, y_test)\n",
    "stac_prec = precision_score(y_pred, y_test,average='weighted')\n",
    "stac_rec = recall_score(y_pred, y_test,average='weighted')\n",
    "stac_f1 = f1_score(y_pred, y_test,average='weighted')"
   ]
  },
  {
   "cell_type": "code",
   "execution_count": 95,
   "id": "c0e981c9",
   "metadata": {},
   "outputs": [],
   "source": [
    "storeResults('Stacking Classifier',stac_acc,stac_prec,stac_rec,stac_f1)"
   ]
  },
  {
   "cell_type": "markdown",
   "id": "fd65bee7",
   "metadata": {},
   "source": [
    "# Comparison"
   ]
  },
  {
   "cell_type": "code",
   "execution_count": 96,
   "id": "e58971da",
   "metadata": {},
   "outputs": [],
   "source": [
    "#creating dataframe\n",
    "result = pd.DataFrame({ 'ML Model' : ML_Model,\n",
    "                        'Accuracy' : accuracy,\n",
    "                       'Precision': precision,\n",
    "                       'Recall'   : recall, \n",
    "                       'F1_score' : f1score \n",
    "                      }) "
   ]
  },
  {
   "cell_type": "code",
   "execution_count": 97,
   "id": "268214f2",
   "metadata": {},
   "outputs": [
    {
     "data": {
      "text/html": [
       "<div>\n",
       "<style scoped>\n",
       "    .dataframe tbody tr th:only-of-type {\n",
       "        vertical-align: middle;\n",
       "    }\n",
       "\n",
       "    .dataframe tbody tr th {\n",
       "        vertical-align: top;\n",
       "    }\n",
       "\n",
       "    .dataframe thead th {\n",
       "        text-align: right;\n",
       "    }\n",
       "</style>\n",
       "<table border=\"1\" class=\"dataframe\">\n",
       "  <thead>\n",
       "    <tr style=\"text-align: right;\">\n",
       "      <th></th>\n",
       "      <th>ML Model</th>\n",
       "      <th>Accuracy</th>\n",
       "      <th>Precision</th>\n",
       "      <th>Recall</th>\n",
       "      <th>F1_score</th>\n",
       "    </tr>\n",
       "  </thead>\n",
       "  <tbody>\n",
       "    <tr>\n",
       "      <th>0</th>\n",
       "      <td>KNN</td>\n",
       "      <td>0.939</td>\n",
       "      <td>0.939</td>\n",
       "      <td>0.939</td>\n",
       "      <td>0.939</td>\n",
       "    </tr>\n",
       "    <tr>\n",
       "      <th>1</th>\n",
       "      <td>Softmax LR</td>\n",
       "      <td>0.423</td>\n",
       "      <td>0.672</td>\n",
       "      <td>0.423</td>\n",
       "      <td>0.471</td>\n",
       "    </tr>\n",
       "    <tr>\n",
       "      <th>2</th>\n",
       "      <td>RandomForest</td>\n",
       "      <td>0.959</td>\n",
       "      <td>0.962</td>\n",
       "      <td>0.959</td>\n",
       "      <td>0.959</td>\n",
       "    </tr>\n",
       "    <tr>\n",
       "      <th>3</th>\n",
       "      <td>HAT/DecisionTree</td>\n",
       "      <td>0.867</td>\n",
       "      <td>0.896</td>\n",
       "      <td>0.867</td>\n",
       "      <td>0.867</td>\n",
       "    </tr>\n",
       "    <tr>\n",
       "      <th>4</th>\n",
       "      <td>Majority Voting</td>\n",
       "      <td>0.954</td>\n",
       "      <td>0.957</td>\n",
       "      <td>0.954</td>\n",
       "      <td>0.954</td>\n",
       "    </tr>\n",
       "    <tr>\n",
       "      <th>5</th>\n",
       "      <td>Stacking Classifier</td>\n",
       "      <td>0.953</td>\n",
       "      <td>0.954</td>\n",
       "      <td>0.953</td>\n",
       "      <td>0.953</td>\n",
       "    </tr>\n",
       "  </tbody>\n",
       "</table>\n",
       "</div>"
      ],
      "text/plain": [
       "              ML Model  Accuracy  Precision  Recall  F1_score\n",
       "0                  KNN     0.939      0.939   0.939     0.939\n",
       "1           Softmax LR     0.423      0.672   0.423     0.471\n",
       "2         RandomForest     0.959      0.962   0.959     0.959\n",
       "3     HAT/DecisionTree     0.867      0.896   0.867     0.867\n",
       "4      Majority Voting     0.954      0.957   0.954     0.954\n",
       "5  Stacking Classifier     0.953      0.954   0.953     0.953"
      ]
     },
     "execution_count": 97,
     "metadata": {},
     "output_type": "execute_result"
    }
   ],
   "source": [
    "result"
   ]
  },
  {
   "cell_type": "markdown",
   "id": "4c205229",
   "metadata": {},
   "source": [
    "# Graph"
   ]
  },
  {
   "cell_type": "code",
   "execution_count": 98,
   "id": "22503fe9",
   "metadata": {},
   "outputs": [],
   "source": [
    "classifier = ML_Model\n",
    "y_pos = np.arange(len(classifier))"
   ]
  },
  {
   "cell_type": "markdown",
   "id": "ba315165",
   "metadata": {},
   "source": [
    "# Accuracy"
   ]
  },
  {
   "cell_type": "code",
   "execution_count": 99,
   "id": "78bb31da",
   "metadata": {},
   "outputs": [
    {
     "data": {
      "image/png": "[encoded data removed]",
      "text/plain": [
       "<Figure size 640x480 with 1 Axes>"
      ]
     },
     "metadata": {},
     "output_type": "display_data"
    }
   ],
   "source": [
    "plt2.barh(y_pos, accuracy, align='center', alpha=0.5,color='blue')\n",
    "plt2.yticks(y_pos, classifier)\n",
    "plt2.xlabel('Accuracy Score')\n",
    "plt2.title('Classification Performance')\n",
    "plt2.show()"
   ]
  },
  {
   "cell_type": "markdown",
   "id": "15df1f1d",
   "metadata": {},
   "source": [
    "# Precision"
   ]
  },
  {
   "cell_type": "code",
   "execution_count": 100,
   "id": "ee48e0b9",
   "metadata": {},
   "outputs": [
    {
     "data": {
      "image/png": "[encoded data removed]",
      "text/plain": [
       "<Figure size 640x480 with 1 Axes>"
      ]
     },
     "metadata": {},
     "output_type": "display_data"
    }
   ],
   "source": [
    "plt2.barh(y_pos, precision, align='center', alpha=0.5,color='red')\n",
    "plt2.yticks(y_pos, classifier)\n",
    "plt2.xlabel('Precision Score')\n",
    "plt2.title('Classification Performance')\n",
    "plt2.show()"
   ]
  },
  {
   "cell_type": "markdown",
   "id": "603e24cb",
   "metadata": {},
   "source": [
    "# Recall"
   ]
  },
  {
   "cell_type": "code",
   "execution_count": 101,
   "id": "119bb256",
   "metadata": {},
   "outputs": [
    {
     "data": {
      "image/png": "[encoded data removed]",
      "text/plain": [
       "<Figure size 640x480 with 1 Axes>"
      ]
     },
     "metadata": {},
     "output_type": "display_data"
    }
   ],
   "source": [
    "plt2.barh(y_pos, recall, align='center', alpha=0.5,color='yellow')\n",
    "plt2.yticks(y_pos, classifier)\n",
    "plt2.xlabel('Recall Score')\n",
    "plt2.title('Classification Performance')\n",
    "plt2.show()"
   ]
  },
  {
   "cell_type": "markdown",
   "id": "aa7ca2c4",
   "metadata": {},
   "source": [
    "# F1 Score"
   ]
  },
  {
   "cell_type": "code",
   "execution_count": 102,
   "id": "24cc807b",
   "metadata": {},
   "outputs": [
    {
     "data": {
      "image/png": "[encoded data removed]",
      "text/plain": [
       "<Figure size 640x480 with 1 Axes>"
      ]
     },
     "metadata": {},
     "output_type": "display_data"
    }
   ],
   "source": [
    "plt2.barh(y_pos, f1score, align='center', alpha=0.5,color='navy')\n",
    "plt2.yticks(y_pos, classifier)\n",
    "plt2.xlabel('F1 Score')\n",
    "plt2.title('Classification Performance')\n",
    "plt2.show()"
   ]
  },
  {
   "cell_type": "markdown",
   "id": "3bf5402b",
   "metadata": {},
   "source": [
    "# Random Under/Over Sampler (Combine)"
   ]
  },
  {
   "cell_type": "code",
   "execution_count": 103,
   "id": "9de82602",
   "metadata": {},
   "outputs": [],
   "source": [
    "X = df[['Fwd Packets Length Total', 'Bwd Packets Length Total',\n",
    "       'Fwd Packet Length Max', 'Fwd Packet Length Mean',\n",
    "       'Fwd Packet Length Std', 'Bwd Packet Length Max',\n",
    "       'Bwd Packet Length Mean', 'Bwd Packet Length Std', 'Fwd IAT Total',\n",
    "       'Packet Length Max', 'Packet Length Mean', 'Packet Length Std',\n",
    "       'Packet Length Variance', 'Avg Packet Size', 'Avg Fwd Segment Size',\n",
    "       'Avg Bwd Segment Size', 'Subflow Fwd Bytes', 'Subflow Bwd Bytes',\n",
    "       'Init Fwd Win Bytes']]\n",
    "y = df[\"Label\"]"
   ]
  },
  {
   "cell_type": "code",
   "execution_count": 104,
   "id": "1b947155",
   "metadata": {},
   "outputs": [],
   "source": [
    "from imblearn.combine import SMOTEENN\n",
    "smote_enn = SMOTEENN(random_state=0)"
   ]
  },
  {
   "cell_type": "code",
   "execution_count": 105,
   "id": "38cc2218",
   "metadata": {},
   "outputs": [],
   "source": [
    "X_resampled, y_resampled = smote_enn.fit_resample(X, y)"
   ]
  },
  {
   "cell_type": "code",
   "execution_count": 106,
   "id": "f5083461",
   "metadata": {},
   "outputs": [
    {
     "data": {
      "text/plain": [
       "((34269, 19), (34269,), (8568, 19), (8568,))"
      ]
     },
     "execution_count": 106,
     "metadata": {},
     "output_type": "execute_result"
    }
   ],
   "source": [
    "X_train, X_test, y_train, y_test = train_test_split(X_resampled, y_resampled, test_size = 0.20, random_state = 42)\n",
    "X_train.shape, y_train.shape, X_test.shape, y_test.shape"
   ]
  },
  {
   "cell_type": "code",
   "execution_count": 107,
   "id": "f34396d2",
   "metadata": {},
   "outputs": [],
   "source": [
    "ML_Model = []\n",
    "accuracy = []\n",
    "precision = []\n",
    "recall = []\n",
    "f1score = []\n",
    "\n",
    "\n",
    "#function to call for storing the results\n",
    "def storeResults(model, a,b,c,d):\n",
    "    ML_Model.append(model)\n",
    "    accuracy.append(round(a, 3))\n",
    "    precision.append(round(b, 3))\n",
    "    recall.append(round(c, 3))\n",
    "    f1score.append(round(d, 3))"
   ]
  },
  {
   "cell_type": "markdown",
   "id": "5340d324",
   "metadata": {},
   "source": [
    "# KNN"
   ]
  },
  {
   "cell_type": "code",
   "execution_count": 108,
   "id": "c3063221",
   "metadata": {},
   "outputs": [],
   "source": [
    "knn = KNeighborsClassifier(n_neighbors=3)\n",
    "knn.fit(X_train, y_train)\n",
    "\n",
    "y_pred    = knn.predict(X_test)\n",
    "\n",
    "knn_acc = accuracy_score(y_pred, y_test)\n",
    "knn_prec = precision_score(y_pred, y_test,average='weighted')\n",
    "knn_rec = recall_score(y_pred, y_test,average='weighted')\n",
    "knn_f1 = f1_score(y_pred, y_test,average='weighted')"
   ]
  },
  {
   "cell_type": "code",
   "execution_count": 109,
   "id": "87c2303e",
   "metadata": {},
   "outputs": [],
   "source": [
    "storeResults('KNN',knn_acc,knn_prec,knn_rec,knn_f1)"
   ]
  },
  {
   "cell_type": "markdown",
   "id": "96bfd177",
   "metadata": {},
   "source": [
    "# Softmax LR"
   ]
  },
  {
   "cell_type": "code",
   "execution_count": 110,
   "id": "cd188bd1",
   "metadata": {},
   "outputs": [],
   "source": [
    "lr =  LogisticRegression(multi_class = 'multinomial', solver = 'lbfgs')\n",
    "lr.fit(X_train, y_train)\n",
    "\n",
    "y_pred    = lr.predict(X_test)\n",
    "\n",
    "lr_acc = accuracy_score(y_pred, y_test)\n",
    "lr_prec = precision_score(y_pred, y_test,average='weighted')\n",
    "lr_rec = recall_score(y_pred, y_test,average='weighted')\n",
    "lr_f1 = f1_score(y_pred, y_test,average='weighted')"
   ]
  },
  {
   "cell_type": "code",
   "execution_count": 111,
   "id": "b83aefb5",
   "metadata": {},
   "outputs": [],
   "source": [
    " storeResults('Softmax LR',lr_acc,lr_prec,lr_rec,lr_f1)"
   ]
  },
  {
   "cell_type": "markdown",
   "id": "b3bea98a",
   "metadata": {},
   "source": [
    "# Random Forest"
   ]
  },
  {
   "cell_type": "code",
   "execution_count": 112,
   "id": "ef0bad7d",
   "metadata": {},
   "outputs": [],
   "source": [
    "rf = RandomForestClassifier(criterion='entropy',max_features='log2',max_depth=20,n_estimators=600,min_samples_leaf=2)\n",
    "rf.fit(X_train, y_train)\n",
    "\n",
    "y_pred    = rf.predict(X_test)\n",
    "\n",
    "rf_acc = accuracy_score(y_pred, y_test)\n",
    "rf_prec = precision_score(y_pred, y_test,average='weighted')\n",
    "rf_rec = recall_score(y_pred, y_test,average='weighted')\n",
    "rf_f1 = f1_score(y_pred, y_test,average='weighted')"
   ]
  },
  {
   "cell_type": "code",
   "execution_count": 113,
   "id": "a2112621",
   "metadata": {},
   "outputs": [],
   "source": [
    "storeResults('RandomForest',rf_acc,rf_prec,rf_rec,rf_f1)"
   ]
  },
  {
   "cell_type": "markdown",
   "id": "0eca92b5",
   "metadata": {},
   "source": [
    "# HAT/Decision Tree"
   ]
  },
  {
   "cell_type": "code",
   "execution_count": 114,
   "id": "8deef634",
   "metadata": {},
   "outputs": [],
   "source": [
    "dt = DecisionTreeClassifier(criterion='entropy',max_features='log2',max_depth=25,min_samples_leaf=2,min_samples_split=5)\n",
    "\n",
    "dt.fit(X_train, y_train)\n",
    "\n",
    "y_pred = dt.predict(X_test)\n",
    "\n",
    "dt_acc = accuracy_score(y_pred, y_test)\n",
    "dt_prec = precision_score(y_pred, y_test,average='weighted')\n",
    "dt_rec = recall_score(y_pred, y_test,average='weighted')\n",
    "dt_f1 = f1_score(y_pred, y_test,average='weighted')"
   ]
  },
  {
   "cell_type": "code",
   "execution_count": 115,
   "id": "1b50f3be",
   "metadata": {},
   "outputs": [],
   "source": [
    "storeResults('HAT/DecisionTree',dt_acc,dt_prec,dt_rec,dt_f1)"
   ]
  },
  {
   "cell_type": "markdown",
   "id": "7ee69b80",
   "metadata": {},
   "source": [
    "# Majority Voting"
   ]
  },
  {
   "cell_type": "code",
   "execution_count": 116,
   "id": "ccfc9ea7",
   "metadata": {},
   "outputs": [],
   "source": [
    "clf = VotingClassifier(estimators=[('KNN', knn), ('LR', lr), ('RF', rf), ('DT', dt)], voting='hard')\n",
    "\n",
    "clf.fit(X_train, y_train)\n",
    "\n",
    "y_pred = clf.predict(X_test)\n",
    "\n",
    "vot_acc = accuracy_score(y_pred, y_test)\n",
    "vot_prec = precision_score(y_pred, y_test,average='weighted')\n",
    "vot_rec = recall_score(y_pred, y_test,average='weighted')\n",
    "vot_f1 = f1_score(y_pred, y_test,average='weighted')"
   ]
  },
  {
   "cell_type": "code",
   "execution_count": 117,
   "id": "c88f6182",
   "metadata": {},
   "outputs": [],
   "source": [
    "storeResults('Majority Voting',vot_acc,vot_prec,vot_rec,vot_f1)"
   ]
  },
  {
   "cell_type": "markdown",
   "id": "85efcc02",
   "metadata": {},
   "source": [
    "# Stacking Classifier"
   ]
  },
  {
   "cell_type": "code",
   "execution_count": 118,
   "id": "5f7e50b4",
   "metadata": {},
   "outputs": [],
   "source": [
    "estimators = [('rf', rf),('dt', dt)]\n",
    "\n",
    "clf1 = BaggingClassifier(RandomForestClassifier(),n_estimators=100, random_state=0)\n",
    "\n",
    "eclf1 = StackingClassifier(estimators=estimators, final_estimator = clf1)\n",
    "\n",
    "eclf1.fit(X_train, y_train)\n",
    "\n",
    "y_pred = eclf1.predict(X_test)\n",
    "\n",
    "stac_acc = accuracy_score(y_pred, y_test)\n",
    "stac_prec = precision_score(y_pred, y_test,average='weighted')\n",
    "stac_rec = recall_score(y_pred, y_test,average='weighted')\n",
    "stac_f1 = f1_score(y_pred, y_test,average='weighted')"
   ]
  },
  {
   "cell_type": "code",
   "execution_count": 119,
   "id": "be5cce20",
   "metadata": {},
   "outputs": [],
   "source": [
    "storeResults('Stacking Classifier',stac_acc,stac_prec,stac_rec,stac_f1)"
   ]
  },
  {
   "cell_type": "markdown",
   "id": "79e08783",
   "metadata": {},
   "source": [
    "# Comparison"
   ]
  },
  {
   "cell_type": "code",
   "execution_count": 120,
   "id": "586f8272",
   "metadata": {},
   "outputs": [],
   "source": [
    "#creating dataframe\n",
    "result = pd.DataFrame({ 'ML Model' : ML_Model,\n",
    "                        'Accuracy' : accuracy,\n",
    "                       'Precision': precision,\n",
    "                       'Recall'   : recall, \n",
    "                       'F1_score' : f1score \n",
    "                      }) "
   ]
  },
  {
   "cell_type": "code",
   "execution_count": 121,
   "id": "5e39427e",
   "metadata": {},
   "outputs": [
    {
     "data": {
      "text/html": [
       "<div>\n",
       "<style scoped>\n",
       "    .dataframe tbody tr th:only-of-type {\n",
       "        vertical-align: middle;\n",
       "    }\n",
       "\n",
       "    .dataframe tbody tr th {\n",
       "        vertical-align: top;\n",
       "    }\n",
       "\n",
       "    .dataframe thead th {\n",
       "        text-align: right;\n",
       "    }\n",
       "</style>\n",
       "<table border=\"1\" class=\"dataframe\">\n",
       "  <thead>\n",
       "    <tr style=\"text-align: right;\">\n",
       "      <th></th>\n",
       "      <th>ML Model</th>\n",
       "      <th>Accuracy</th>\n",
       "      <th>Precision</th>\n",
       "      <th>Recall</th>\n",
       "      <th>F1_score</th>\n",
       "    </tr>\n",
       "  </thead>\n",
       "  <tbody>\n",
       "    <tr>\n",
       "      <th>0</th>\n",
       "      <td>KNN</td>\n",
       "      <td>0.995</td>\n",
       "      <td>0.995</td>\n",
       "      <td>0.995</td>\n",
       "      <td>0.995</td>\n",
       "    </tr>\n",
       "    <tr>\n",
       "      <th>1</th>\n",
       "      <td>Softmax LR</td>\n",
       "      <td>0.429</td>\n",
       "      <td>0.568</td>\n",
       "      <td>0.429</td>\n",
       "      <td>0.453</td>\n",
       "    </tr>\n",
       "    <tr>\n",
       "      <th>2</th>\n",
       "      <td>RandomForest</td>\n",
       "      <td>0.997</td>\n",
       "      <td>0.997</td>\n",
       "      <td>0.997</td>\n",
       "      <td>0.997</td>\n",
       "    </tr>\n",
       "    <tr>\n",
       "      <th>3</th>\n",
       "      <td>HAT/DecisionTree</td>\n",
       "      <td>0.996</td>\n",
       "      <td>0.996</td>\n",
       "      <td>0.996</td>\n",
       "      <td>0.996</td>\n",
       "    </tr>\n",
       "    <tr>\n",
       "      <th>4</th>\n",
       "      <td>Majority Voting</td>\n",
       "      <td>0.996</td>\n",
       "      <td>0.996</td>\n",
       "      <td>0.996</td>\n",
       "      <td>0.996</td>\n",
       "    </tr>\n",
       "    <tr>\n",
       "      <th>5</th>\n",
       "      <td>Stacking Classifier</td>\n",
       "      <td>0.996</td>\n",
       "      <td>0.996</td>\n",
       "      <td>0.996</td>\n",
       "      <td>0.996</td>\n",
       "    </tr>\n",
       "  </tbody>\n",
       "</table>\n",
       "</div>"
      ],
      "text/plain": [
       "              ML Model  Accuracy  Precision  Recall  F1_score\n",
       "0                  KNN     0.995      0.995   0.995     0.995\n",
       "1           Softmax LR     0.429      0.568   0.429     0.453\n",
       "2         RandomForest     0.997      0.997   0.997     0.997\n",
       "3     HAT/DecisionTree     0.996      0.996   0.996     0.996\n",
       "4      Majority Voting     0.996      0.996   0.996     0.996\n",
       "5  Stacking Classifier     0.996      0.996   0.996     0.996"
      ]
     },
     "execution_count": 121,
     "metadata": {},
     "output_type": "execute_result"
    }
   ],
   "source": [
    "result"
   ]
  },
  {
   "cell_type": "markdown",
   "id": "17ffd06d",
   "metadata": {},
   "source": [
    "# Modelling"
   ]
  },
  {
   "cell_type": "code",
   "execution_count": 122,
   "id": "ded1af8d",
   "metadata": {},
   "outputs": [
    {
     "data": {
      "text/plain": [
       "['models/cicids2018/model_com.sav']"
      ]
     },
     "execution_count": 122,
     "metadata": {},
     "output_type": "execute_result"
    }
   ],
   "source": [
    "import joblib\n",
    "filename = 'models/cicids2018/model_com.sav'\n",
    "joblib.dump(eclf1, filename)"
   ]
  },
  {
   "cell_type": "markdown",
   "id": "1e41cba4",
   "metadata": {},
   "source": [
    "# Graph"
   ]
  },
  {
   "cell_type": "code",
   "execution_count": 124,
   "id": "7317b1a2",
   "metadata": {},
   "outputs": [],
   "source": [
    "classifier = ML_Model\n",
    "y_pos = np.arange(len(classifier))"
   ]
  },
  {
   "cell_type": "markdown",
   "id": "074286a3",
   "metadata": {},
   "source": [
    "# Accuracy"
   ]
  },
  {
   "cell_type": "code",
   "execution_count": 125,
   "id": "47863af4",
   "metadata": {},
   "outputs": [
    {
     "data": {
      "image/png": "[encoded data removed]",
      "text/plain": [
       "<Figure size 640x480 with 1 Axes>"
      ]
     },
     "metadata": {},
     "output_type": "display_data"
    }
   ],
   "source": [
    "import matplotlib.pyplot as plt2\n",
    "plt2.barh(y_pos, accuracy, align='center', alpha=0.5,color='blue')\n",
    "plt2.yticks(y_pos, classifier)\n",
    "plt2.xlabel('Accuracy Score')\n",
    "plt2.title('Classification Performance')\n",
    "plt2.show()"
   ]
  },
  {
   "cell_type": "markdown",
   "id": "9c3f2fab",
   "metadata": {},
   "source": [
    "# Precision"
   ]
  },
  {
   "cell_type": "code",
   "execution_count": 126,
   "id": "02b4abff",
   "metadata": {},
   "outputs": [
    {
     "data": {
      "image/png": "[encoded data removed]",
      "text/plain": [
       "<Figure size 640x480 with 1 Axes>"
      ]
     },
     "metadata": {},
     "output_type": "display_data"
    }
   ],
   "source": [
    "plt2.barh(y_pos, precision, align='center', alpha=0.5,color='red')\n",
    "plt2.yticks(y_pos, classifier)\n",
    "plt2.xlabel('Precision Score')\n",
    "plt2.title('Classification Performance')\n",
    "plt2.show()"
   ]
  },
  {
   "cell_type": "markdown",
   "id": "ebf25744",
   "metadata": {},
   "source": [
    "# Recall"
   ]
  },
  {
   "cell_type": "code",
   "execution_count": 127,
   "id": "820fd761",
   "metadata": {},
   "outputs": [
    {
     "data": {
      "image/png": "[encoded data removed]",
      "text/plain": [
       "<Figure size 640x480 with 1 Axes>"
      ]
     },
     "metadata": {},
     "output_type": "display_data"
    }
   ],
   "source": [
    "plt2.barh(y_pos, recall, align='center', alpha=0.5,color='yellow')\n",
    "plt2.yticks(y_pos, classifier)\n",
    "plt2.xlabel('Recall Score')\n",
    "plt2.title('Classification Performance')\n",
    "plt2.show()"
   ]
  },
  {
   "cell_type": "markdown",
   "id": "c6037d0d",
   "metadata": {},
   "source": [
    "# F1 Score"
   ]
  },
  {
   "cell_type": "code",
   "execution_count": 128,
   "id": "821c5cc4",
   "metadata": {},
   "outputs": [
    {
     "data": {
      "image/png": "[encoded data removed]",
      "text/plain": [
       "<Figure size 640x480 with 1 Axes>"
      ]
     },
     "metadata": {},
     "output_type": "display_data"
    }
   ],
   "source": [
    "plt2.barh(y_pos, f1score, align='center', alpha=0.5,color='navy')\n",
    "plt2.yticks(y_pos, classifier)\n",
    "plt2.xlabel('F1 Score')\n",
    "plt2.title('Classification Performance')\n",
    "plt2.show()"
   ]
  },
  {
   "cell_type": "code",
   "execution_count": null,
   "id": "ce3cdc1f",
   "metadata": {},
   "outputs": [],
   "source": []
  },
  {
   "cell_type": "code",
   "execution_count": null,
   "id": "cf5b5b1a",
   "metadata": {},
   "outputs": [],
   "source": []
  }
 ],
 "metadata": {
  "kernelspec": {
   "display_name": "Python 3 (ipykernel)",
   "language": "python",
   "name": "python3"
  },
  "language_info": {
   "codemirror_mode": {
    "name": "ipython",
    "version": 3
   },
   "file_extension": ".py",
   "mimetype": "text/x-python",
   "name": "python",
   "nbconvert_exporter": "python",
   "pygments_lexer": "ipython3",
   "version": "3.10.9"
  }
 },
 "nbformat": 4,
 "nbformat_minor": 5
}
